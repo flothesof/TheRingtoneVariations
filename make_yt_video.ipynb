{
 "metadata": {
  "name": "",
  "signature": "sha256:2f93adae3a447daa984d989650f828e8b14740069d9451edb4d31b5f06bbfc56"
 },
 "nbformat": 3,
 "nbformat_minor": 0,
 "worksheets": [
  {
   "cells": [
    {
     "cell_type": "code",
     "collapsed": false,
     "input": [
      "from pylab import *\n",
      "from moviepy.editor import TextClip, CompositeVideoClip, ImageClip, AudioFileClip\n",
      "from moviepy.editor import concatenate as concat_clips"
     ],
     "language": "python",
     "metadata": {},
     "outputs": [],
     "prompt_number": 1
    },
    {
     "cell_type": "markdown",
     "metadata": {},
     "source": [
      "There's a discussion about which size is better for generating a clip. Below is something I found on the internet.\n",
      "\n",
      "- 2160p: 3840x2160\n",
      "- 1440p: 2560x1440\n",
      "- 1080p: 1920x1080\n",
      "- 720p: 1280x720\n",
      "- 480p: 854x480\n",
      "- 360p: 640x360\n",
      "- 240p: 426x240"
     ]
    },
    {
     "cell_type": "code",
     "collapsed": false,
     "input": [
      "screensize = (640, 360)"
     ],
     "language": "python",
     "metadata": {},
     "outputs": [],
     "prompt_number": 2
    },
    {
     "cell_type": "markdown",
     "metadata": {},
     "source": [
      "First, we load the sound and do the boilerplate stuff."
     ]
    },
    {
     "cell_type": "code",
     "collapsed": false,
     "input": [
      "# load sound file\n",
      "from scipy.io import wavfile\n",
      "sample_freq, whistle = wavfile.read(\"samsung_ringtone.wav\")\n",
      "t = arange(whistle.shape[0], dtype=float32) / sample_freq\n",
      "\n",
      "# segment it\n",
      "chunk_times = [0., 0.22, 0.38, 0.5, 0.92, 1.2]\n",
      "from scipy.signal import get_window    \n",
      "chunks = []\n",
      "for start, end in zip(chunk_times[:-1], chunk_times[1:]):\n",
      "    chunks.append(whistle[(t > start) & (t < end)] * get_window('hamming', t[(t > start) & (t < end)].size))    \n",
      "\n",
      "# make the permutations\n",
      "from itertools import permutations\n",
      "from collections import OrderedDict    \n",
      "variations = OrderedDict()\n",
      "for p in permutations((0, 1, 2, 3, 4)):\n",
      "    out = []\n",
      "    for elem in p:\n",
      "        if len(out) == 0:\n",
      "            out = chunks[elem].copy() \n",
      "        else:\n",
      "            out = concatenate((out, chunks[elem].copy()))\n",
      "    variations[str(p)] = out.copy()"
     ],
     "language": "python",
     "metadata": {},
     "outputs": [],
     "prompt_number": 3
    },
    {
     "cell_type": "markdown",
     "metadata": {},
     "source": [
      "Now we define our export functions."
     ]
    },
    {
     "cell_type": "code",
     "collapsed": false,
     "input": [
      "def generate_image(audio_clip, sample_freq, title_label, filename='tmp.png'):\n",
      "    \"\"\" plots the waveform and the spectrogram of the audio clip\n",
      "    and saves it to disk\n",
      "    \"\"\"\n",
      "    dpi = 100.\n",
      "    t = arange(audio_clip.shape[0], dtype=float32) / sample_freq\n",
      "    f = figure(1, figsize=(screensize[0]/dpi, screensize[1]/dpi))\n",
      "    clf()\n",
      "    subplot(211)\n",
      "    plot(t, audio_clip)\n",
      "    xlabel(\"time (s)\")\n",
      "    ylabel('amplitude (a. u.)')\n",
      "    title(title_label)\n",
      "    grid(True)\n",
      "    subplot(212)\n",
      "    specgram(audio_clip, Fs=sample_freq)\n",
      "    xlim(0, 1.1)\n",
      "    ylim(0, 10000)\n",
      "    xlabel('time (s)')\n",
      "    ylabel('frequency (Hz)')\n",
      "    tight_layout()\n",
      "    savefig(filename, dpi=dpi)"
     ],
     "language": "python",
     "metadata": {},
     "outputs": [],
     "prompt_number": 4
    },
    {
     "cell_type": "code",
     "collapsed": false,
     "input": [
      "def generate_audio(variation, sample_freq, filename='sound.wav'):\n",
      "    wavfile.write(filename, sample_freq, variation.astype(int16))"
     ],
     "language": "python",
     "metadata": {},
     "outputs": [],
     "prompt_number": 5
    },
    {
     "cell_type": "markdown",
     "metadata": {},
     "source": [
      "Now we can loop over the different elements and save them to disk."
     ]
    },
    {
     "cell_type": "code",
     "collapsed": false,
     "input": [
      "key2filename = lambda k: k[1:-1].replace(', ', '_')"
     ],
     "language": "python",
     "metadata": {},
     "outputs": [],
     "prompt_number": 6
    },
    {
     "cell_type": "code",
     "collapsed": false,
     "input": [
      "if True:\n",
      "    for p in variations.keys():\n",
      "        generate_image(variations[p], sample_freq, p, filename=\"img/\"+key2filename(p)+\".png\")\n",
      "    for p in variations.keys():\n",
      "        generate_audio(variations[p], sample_freq, filename=\"snd/\"+key2filename(p)+\".wav\")"
     ],
     "language": "python",
     "metadata": {},
     "outputs": []
    },
    {
     "cell_type": "markdown",
     "metadata": {},
     "source": [
      "The final clip:"
     ]
    },
    {
     "cell_type": "code",
     "collapsed": false,
     "input": [
      "TextClip.list('font')"
     ],
     "language": "python",
     "metadata": {},
     "outputs": []
    },
    {
     "cell_type": "code",
     "collapsed": false,
     "input": [
      "#%%time\n",
      "\n",
      "clips = []\n",
      "cnt = 0\n",
      "# intro screen\n",
      "intro_txt = TextClip(\"\"\"119 Variations\\non a theme by Samsung\\n'The whistling ringtone'\"\"\",\n",
      "                     color='white', \n",
      "                     font='Baskerville-Old-Face',\n",
      "                     kerning=5, \n",
      "                     fontsize=50).set_pos('center').set_duration(5)\n",
      "intro_cvc = CompositeVideoClip( [intro_txt],\n",
      "                        size=screensize, transparent=True)\n",
      "clips.append(intro_cvc)\n",
      "\n",
      "# loop\n",
      "for p in variations.keys():\n",
      "    cnt += 1 \n",
      "    print cnt, \n",
      "    # title\n",
      "    clips.append(CompositeVideoClip([TextClip(p, color='white', fontsize=50, font='Baskerville-Old-Face').set_pos('center').set_duration(2)],\n",
      "                                        size=screensize))\n",
      "    # the image and sound\n",
      "    aud_clip = AudioFileClip(\"snd/\"+key2filename(p)+\".wav\", fps=sample_freq)\n",
      "    im_clip = ImageClip(\"img/\"+key2filename(p)+\".png\")\n",
      "    im_clip = im_clip.set_audio(aud_clip).set_duration(aud_clip.duration)\n",
      "    clips.append(CompositeVideoClip([im_clip],\n",
      "                                    size=screensize))\n",
      "\n",
      "# concatenation and output\n",
      "video = concat_clips(clips)\n",
      "video.to_videofile(\"SamsungVariations.avi\", codec='mpeg4')"
     ],
     "language": "python",
     "metadata": {},
     "outputs": []
    }
   ],
   "metadata": {}
  }
 ]
}