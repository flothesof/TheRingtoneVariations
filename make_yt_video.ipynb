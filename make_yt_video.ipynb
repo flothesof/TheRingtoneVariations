{
 "metadata": {
  "name": "",
  "signature": "sha256:85bc65e4eb5035f2782fc617a4504283349b3a52f862b8738b4bf71ec4a6b095"
 },
 "nbformat": 3,
 "nbformat_minor": 0,
 "worksheets": [
  {
   "cells": [
    {
     "cell_type": "code",
     "collapsed": false,
     "input": [
      "from pylab import *\n",
      "from moviepy.editor import TextClip, CompositeVideoClip, ImageClip, AudioFileClip, VideoFileClip\n",
      "from moviepy.editor import concatenate as concat_clips"
     ],
     "language": "python",
     "metadata": {},
     "outputs": [],
     "prompt_number": 11
    },
    {
     "cell_type": "markdown",
     "metadata": {},
     "source": [
      "There's a discussion about which size is better for generating a clip. Below is something I found on the internet.\n",
      "\n",
      "- 2160p: 3840x2160\n",
      "- 1440p: 2560x1440\n",
      "- 1080p: 1920x1080\n",
      "- 720p: 1280x720\n",
      "- 480p: 854x480\n",
      "- 360p: 640x360\n",
      "- 240p: 426x240"
     ]
    },
    {
     "cell_type": "code",
     "collapsed": false,
     "input": [
      "screensize = (854, 480)"
     ],
     "language": "python",
     "metadata": {},
     "outputs": [],
     "prompt_number": 2
    },
    {
     "cell_type": "markdown",
     "metadata": {},
     "source": [
      "First, we load the sound and do the boilerplate stuff."
     ]
    },
    {
     "cell_type": "code",
     "collapsed": false,
     "input": [
      "# load sound file\n",
      "from scipy.io import wavfile\n",
      "sample_freq, whistle = wavfile.read(\"samsung_ringtone.wav\")\n",
      "t = arange(whistle.shape[0], dtype=float32) / sample_freq\n",
      "\n",
      "# segment it\n",
      "chunk_times = [0., 0.22, 0.38, 0.5, 0.92, 1.2]\n",
      "from scipy.signal import get_window    \n",
      "chunks = []\n",
      "for start, end in zip(chunk_times[:-1], chunk_times[1:]):\n",
      "    chunks.append(whistle[(t > start) & (t < end)] * get_window('hamming', t[(t > start) & (t < end)].size))    \n",
      "\n",
      "# make the permutations\n",
      "from itertools import permutations\n",
      "from collections import OrderedDict    \n",
      "variations = OrderedDict()\n",
      "for p in permutations((0, 1, 2, 3, 4)):\n",
      "    out = []\n",
      "    for elem in p:\n",
      "        if len(out) == 0:\n",
      "            out = chunks[elem].copy() \n",
      "        else:\n",
      "            out = concatenate((out, chunks[elem].copy()))\n",
      "    variations[str(p)] = out.copy()"
     ],
     "language": "python",
     "metadata": {},
     "outputs": [],
     "prompt_number": 3
    },
    {
     "cell_type": "markdown",
     "metadata": {},
     "source": [
      "Now we define our export functions."
     ]
    },
    {
     "cell_type": "code",
     "collapsed": false,
     "input": [
      "def generate_image(audio_clip, sample_freq, title_label, filename='tmp.png'):\n",
      "    \"\"\" plots the waveform and the spectrogram of the audio clip\n",
      "    and saves it to disk\n",
      "    \"\"\"\n",
      "    dpi = 100.\n",
      "    t = arange(audio_clip.shape[0], dtype=float32) / sample_freq\n",
      "    f = figure(1, figsize=(screensize[0]/dpi, screensize[1]/dpi))\n",
      "    clf()\n",
      "    subplot(211)\n",
      "    plot(t, audio_clip)\n",
      "    xlabel(\"time (s)\")\n",
      "    ylabel('amplitude (a. u.)')\n",
      "    title(title_label)\n",
      "    grid(True)\n",
      "    subplot(212)\n",
      "    specgram(audio_clip, Fs=sample_freq)\n",
      "    xlim(0, 1.1)\n",
      "    ylim(0, 10000)\n",
      "    xlabel('time (s)')\n",
      "    ylabel('frequency (Hz)')\n",
      "    tight_layout()\n",
      "    savefig(filename, dpi=dpi)"
     ],
     "language": "python",
     "metadata": {},
     "outputs": [],
     "prompt_number": 4
    },
    {
     "cell_type": "code",
     "collapsed": false,
     "input": [
      "def generate_audio(variation, sample_freq, filename='sound.wav'):\n",
      "    wavfile.write(filename, sample_freq, variation.astype(int16))"
     ],
     "language": "python",
     "metadata": {},
     "outputs": [],
     "prompt_number": 5
    },
    {
     "cell_type": "markdown",
     "metadata": {},
     "source": [
      "Now we can loop over the different elements and save them to disk."
     ]
    },
    {
     "cell_type": "code",
     "collapsed": false,
     "input": [
      "key2filename = lambda k: k[1:-1].replace(', ', '_')"
     ],
     "language": "python",
     "metadata": {},
     "outputs": [],
     "prompt_number": 6
    },
    {
     "cell_type": "code",
     "collapsed": false,
     "input": [
      "%%time\n",
      "\n",
      "if True:\n",
      "    for p in variations.keys():\n",
      "        generate_image(variations[p], sample_freq, p, filename=\"img/\"+key2filename(p)+\".png\")\n",
      "    for p in variations.keys():\n",
      "        generate_audio(variations[p], sample_freq, filename=\"snd/\"+key2filename(p)+\".wav\")"
     ],
     "language": "python",
     "metadata": {},
     "outputs": [],
     "prompt_number": 7
    },
    {
     "cell_type": "markdown",
     "metadata": {},
     "source": [
      "The final clip is built below. Due to memory issues, it's built in two steps.\n",
      "\n",
      "Firts, we write a function that can generate the two bits of the video. Then we join them together."
     ]
    },
    {
     "cell_type": "code",
     "collapsed": false,
     "input": [
      "# display available fonts on system\n",
      "#TextClip.list('font')"
     ],
     "language": "python",
     "metadata": {},
     "outputs": [],
     "prompt_number": 8
    },
    {
     "cell_type": "code",
     "collapsed": false,
     "input": [
      "def partial_loop(start, n, filename):\n",
      "\n",
      "    clips = []\n",
      "\n",
      "    # intro screen\n",
      "    if start == 0:\n",
      "        intro_txt = TextClip(\"\"\"119 Variations\\non a theme by Samsung\\n'The whistling ringtone'\"\"\",\n",
      "                             color='white', \n",
      "                             font='Baskerville-Old-Face',\n",
      "                             kerning=5, \n",
      "                             fontsize=50).set_pos('center').set_duration(5)\n",
      "        intro_cvc = CompositeVideoClip( [intro_txt],\n",
      "                                size=screensize, transparent=True)\n",
      "        clips.append(intro_cvc)\n",
      "\n",
      "    # loop\n",
      "    cnt = start\n",
      "    for p in variations.keys()[start: start + n]:\n",
      "        cnt += 1 \n",
      "        print cnt, \n",
      "        # title\n",
      "        clips.append(CompositeVideoClip([TextClip(p, \n",
      "                                                  color='white', \n",
      "                                                  fontsize=50, \n",
      "                                                  font='Baskerville-Old-Face').set_pos('center').set_duration(2)],\n",
      "                                            size=screensize))\n",
      "        # the image and sound\n",
      "        aud_clip = AudioFileClip(\"snd/\"+key2filename(p)+\".wav\", fps=sample_freq)\n",
      "        im_clip = ImageClip(\"img/\"+key2filename(p)+\".png\")\n",
      "        im_clip = im_clip.set_audio(aud_clip).set_duration(aud_clip.duration)\n",
      "        clips.append(CompositeVideoClip([im_clip],\n",
      "                                        size=screensize))\n",
      "\n",
      "    # concatenation and output\n",
      "    video = concat_clips(clips)\n",
      "    video.to_videofile(filename + \".avi\", codec='mpeg4')"
     ],
     "language": "python",
     "metadata": {},
     "outputs": [],
     "prompt_number": 9
    },
    {
     "cell_type": "code",
     "collapsed": false,
     "input": [
      "partial_loop(0, 50, \"SamsungVariationsPart1\")"
     ],
     "language": "python",
     "metadata": {},
     "outputs": [
      {
       "output_type": "stream",
       "stream": "stdout",
       "text": [
        "1 "
       ]
      },
      {
       "output_type": "stream",
       "stream": "stdout",
       "text": [
        "2 "
       ]
      },
      {
       "output_type": "stream",
       "stream": "stdout",
       "text": [
        "3 "
       ]
      },
      {
       "output_type": "stream",
       "stream": "stdout",
       "text": [
        "4 "
       ]
      },
      {
       "output_type": "stream",
       "stream": "stdout",
       "text": [
        "5 "
       ]
      },
      {
       "output_type": "stream",
       "stream": "stdout",
       "text": [
        "6 "
       ]
      },
      {
       "output_type": "stream",
       "stream": "stdout",
       "text": [
        "7 "
       ]
      },
      {
       "output_type": "stream",
       "stream": "stdout",
       "text": [
        "8 "
       ]
      },
      {
       "output_type": "stream",
       "stream": "stdout",
       "text": [
        "9 "
       ]
      },
      {
       "output_type": "stream",
       "stream": "stdout",
       "text": [
        "10 "
       ]
      },
      {
       "output_type": "stream",
       "stream": "stdout",
       "text": [
        "11 "
       ]
      },
      {
       "output_type": "stream",
       "stream": "stdout",
       "text": [
        "12 "
       ]
      },
      {
       "output_type": "stream",
       "stream": "stdout",
       "text": [
        "13 "
       ]
      },
      {
       "output_type": "stream",
       "stream": "stdout",
       "text": [
        "14 "
       ]
      },
      {
       "output_type": "stream",
       "stream": "stdout",
       "text": [
        "15 "
       ]
      },
      {
       "output_type": "stream",
       "stream": "stdout",
       "text": [
        "16 "
       ]
      },
      {
       "output_type": "stream",
       "stream": "stdout",
       "text": [
        "17 "
       ]
      },
      {
       "output_type": "stream",
       "stream": "stdout",
       "text": [
        "18 "
       ]
      },
      {
       "output_type": "stream",
       "stream": "stdout",
       "text": [
        "19 "
       ]
      },
      {
       "output_type": "stream",
       "stream": "stdout",
       "text": [
        "20 "
       ]
      },
      {
       "output_type": "stream",
       "stream": "stdout",
       "text": [
        "21 "
       ]
      },
      {
       "output_type": "stream",
       "stream": "stdout",
       "text": [
        "22 "
       ]
      },
      {
       "output_type": "stream",
       "stream": "stdout",
       "text": [
        "23 "
       ]
      },
      {
       "output_type": "stream",
       "stream": "stdout",
       "text": [
        "24 "
       ]
      },
      {
       "output_type": "stream",
       "stream": "stdout",
       "text": [
        "25 "
       ]
      },
      {
       "output_type": "stream",
       "stream": "stdout",
       "text": [
        "26 "
       ]
      },
      {
       "output_type": "stream",
       "stream": "stdout",
       "text": [
        "27 "
       ]
      },
      {
       "output_type": "stream",
       "stream": "stdout",
       "text": [
        "28 "
       ]
      },
      {
       "output_type": "stream",
       "stream": "stdout",
       "text": [
        "29 "
       ]
      },
      {
       "output_type": "stream",
       "stream": "stdout",
       "text": [
        "30 "
       ]
      },
      {
       "output_type": "stream",
       "stream": "stdout",
       "text": [
        "31 "
       ]
      },
      {
       "output_type": "stream",
       "stream": "stdout",
       "text": [
        "32 "
       ]
      },
      {
       "output_type": "stream",
       "stream": "stdout",
       "text": [
        "33 "
       ]
      },
      {
       "output_type": "stream",
       "stream": "stdout",
       "text": [
        "34 "
       ]
      },
      {
       "output_type": "stream",
       "stream": "stdout",
       "text": [
        "35 "
       ]
      },
      {
       "output_type": "stream",
       "stream": "stdout",
       "text": [
        "36 "
       ]
      },
      {
       "output_type": "stream",
       "stream": "stdout",
       "text": [
        "37 "
       ]
      },
      {
       "output_type": "stream",
       "stream": "stdout",
       "text": [
        "38 "
       ]
      },
      {
       "output_type": "stream",
       "stream": "stdout",
       "text": [
        "39 "
       ]
      },
      {
       "output_type": "stream",
       "stream": "stdout",
       "text": [
        "40 "
       ]
      },
      {
       "output_type": "stream",
       "stream": "stdout",
       "text": [
        "41 "
       ]
      },
      {
       "output_type": "stream",
       "stream": "stdout",
       "text": [
        "42 "
       ]
      },
      {
       "output_type": "stream",
       "stream": "stdout",
       "text": [
        "43 "
       ]
      },
      {
       "output_type": "stream",
       "stream": "stdout",
       "text": [
        "44 "
       ]
      },
      {
       "output_type": "stream",
       "stream": "stdout",
       "text": [
        "45 "
       ]
      },
      {
       "output_type": "stream",
       "stream": "stdout",
       "text": [
        "46 "
       ]
      },
      {
       "output_type": "stream",
       "stream": "stdout",
       "text": [
        "47 "
       ]
      },
      {
       "output_type": "stream",
       "stream": "stdout",
       "text": [
        "48 "
       ]
      },
      {
       "output_type": "stream",
       "stream": "stdout",
       "text": [
        "49 "
       ]
      },
      {
       "output_type": "stream",
       "stream": "stdout",
       "text": [
        "50\n",
        "MoviePy: building video file SamsungVariationsPart1.avi\n",
        "----------------------------------------\n"
       ]
      },
      {
       "output_type": "stream",
       "stream": "stdout",
       "text": [
        "Writing audio in SamsungVariationsPart1TEMP_MPY_to_videofile_SOUND.ogg\n"
       ]
      },
      {
       "output_type": "stream",
       "stream": "stdout",
       "text": [
        "\r",
        "|----------| 0/3584   0% [elapsed: 00:00 left: ?, ? iters/sec]"
       ]
      },
      {
       "output_type": "stream",
       "stream": "stdout",
       "text": [
        "\r",
        "|----------| 244/3584   6% [elapsed: 00:00 left: 00:06, 488.00 iters/sec]"
       ]
      },
      {
       "output_type": "stream",
       "stream": "stdout",
       "text": [
        "\r",
        "|#---------| 520/3584  14% [elapsed: 00:01 left: 00:05, 518.96 iters/sec]"
       ]
      },
      {
       "output_type": "stream",
       "stream": "stdout",
       "text": [
        "\r",
        "|##--------| 790/3584  22% [elapsed: 00:01 left: 00:05, 525.62 iters/sec]"
       ]
      },
      {
       "output_type": "stream",
       "stream": "stdout",
       "text": [
        "\r",
        "|##--------| 1068/3584  29% [elapsed: 00:02 left: 00:04, 533.20 iters/sec]"
       ]
      },
      {
       "output_type": "stream",
       "stream": "stdout",
       "text": [
        "\r",
        "|###-------| 1345/3584  37% [elapsed: 00:02 left: 00:04, 537.14 iters/sec]"
       ]
      },
      {
       "output_type": "stream",
       "stream": "stdout",
       "text": [
        "\r",
        "|####------| 1621/3584  45% [elapsed: 00:03 left: 00:03, 539.43 iters/sec]"
       ]
      },
      {
       "output_type": "stream",
       "stream": "stdout",
       "text": [
        "\r",
        "|#####-----| 1901/3584  53% [elapsed: 00:03 left: 00:03, 542.37 iters/sec]"
       ]
      },
      {
       "output_type": "stream",
       "stream": "stdout",
       "text": [
        "\r",
        "|######----| 2182/3584  60% [elapsed: 00:04 left: 00:02, 544.55 iters/sec]"
       ]
      },
      {
       "output_type": "stream",
       "stream": "stdout",
       "text": [
        "\r",
        "|######----| 2460/3584  68% [elapsed: 00:04 left: 00:02, 545.82 iters/sec]"
       ]
      },
      {
       "output_type": "stream",
       "stream": "stdout",
       "text": [
        "\r",
        "|#######---| 2743/3584  76% [elapsed: 00:05 left: 00:01, 547.83 iters/sec]"
       ]
      },
      {
       "output_type": "stream",
       "stream": "stdout",
       "text": [
        "\r",
        "|########--| 3018/3584  84% [elapsed: 00:05 left: 00:01, 547.93 iters/sec]"
       ]
      },
      {
       "output_type": "stream",
       "stream": "stdout",
       "text": [
        "\r",
        "|#########-| 3299/3584  92% [elapsed: 00:06 left: 00:00, 549.01 iters/sec]"
       ]
      },
      {
       "output_type": "stream",
       "stream": "stdout",
       "text": [
        "\r",
        "|#########-| 3578/3584  99% [elapsed: 00:06 left: 00:00, 549.62 iters/sec]"
       ]
      },
      {
       "output_type": "stream",
       "stream": "stdout",
       "text": [
        "\r",
        "                                                                          "
       ]
      },
      {
       "output_type": "stream",
       "stream": "stdout",
       "text": [
        "\r",
        "Done writing Audio in SamsungVariationsPart1TEMP_MPY_to_videofile_SOUND.ogg !\n"
       ]
      },
      {
       "output_type": "stream",
       "stream": "stdout",
       "text": [
        "\n",
        "Writing video into SamsungVariationsPart1TEMP_MPY_to_videofile.avi\n"
       ]
      },
      {
       "output_type": "stream",
       "stream": "stdout",
       "text": [
        "\r",
        "|----------| 0/3900   0% [elapsed: 00:00 left: ?, ? iters/sec]"
       ]
      },
      {
       "output_type": "stream",
       "stream": "stdout",
       "text": [
        "\r",
        "|----------| 43/3900   1% [elapsed: 00:00 left: 00:45, 84.65 iters/sec]"
       ]
      },
      {
       "output_type": "stream",
       "stream": "stdout",
       "text": [
        "\r",
        "|----------| 90/3900   2% [elapsed: 00:01 left: 00:43, 88.58 iters/sec]"
       ]
      },
      {
       "output_type": "stream",
       "stream": "stdout",
       "text": [
        "\r",
        "|----------| 150/3900   3% [elapsed: 00:01 left: 00:37, 98.81 iters/sec]"
       ]
      },
      {
       "output_type": "stream",
       "stream": "stdout",
       "text": [
        "\r",
        "|----------| 180/3900   4% [elapsed: 00:02 left: 00:41, 88.67 iters/sec]"
       ]
      },
      {
       "output_type": "stream",
       "stream": "stdout",
       "text": [
        "\r",
        "|----------| 195/3900   5% [elapsed: 00:02 left: 00:48, 76.32 iters/sec]"
       ]
      },
      {
       "output_type": "stream",
       "stream": "stdout",
       "text": [
        "\r",
        "|----------| 251/3900   6% [elapsed: 00:03 left: 00:44, 81.52 iters/sec]"
       ]
      },
      {
       "output_type": "stream",
       "stream": "stdout",
       "text": [
        "\r",
        "|----------| 266/3900   6% [elapsed: 00:03 left: 00:49, 73.64 iters/sec]"
       ]
      },
      {
       "output_type": "stream",
       "stream": "stdout",
       "text": [
        "\r",
        "|----------| 322/3900   8% [elapsed: 00:04 left: 00:46, 77.70 iters/sec]"
       ]
      },
      {
       "output_type": "stream",
       "stream": "stdout",
       "text": [
        "\r",
        "|----------| 337/3900   8% [elapsed: 00:04 left: 00:49, 72.05 iters/sec]"
       ]
      },
      {
       "output_type": "stream",
       "stream": "stdout",
       "text": [
        "\r",
        "|----------| 376/3900   9% [elapsed: 00:05 left: 00:48, 72.61 iters/sec]"
       ]
      },
      {
       "output_type": "stream",
       "stream": "stdout",
       "text": [
        "\r",
        "|#---------| 407/3900  10% [elapsed: 00:05 left: 00:48, 71.34 iters/sec]"
       ]
      },
      {
       "output_type": "stream",
       "stream": "stdout",
       "text": [
        "\r",
        "|#---------| 421/3900  10% [elapsed: 00:06 left: 00:51, 67.53 iters/sec]"
       ]
      },
      {
       "output_type": "stream",
       "stream": "stdout",
       "text": [
        "\r",
        "|#---------| 476/3900  12% [elapsed: 00:06 left: 00:48, 70.45 iters/sec]"
       ]
      },
      {
       "output_type": "stream",
       "stream": "stdout",
       "text": [
        "\r",
        "|#---------| 491/3900  12% [elapsed: 00:07 left: 00:50, 67.40 iters/sec]"
       ]
      },
      {
       "output_type": "stream",
       "stream": "stdout",
       "text": [
        "\r",
        "|#---------| 546/3900  14% [elapsed: 00:07 left: 00:47, 70.13 iters/sec]"
       ]
      },
      {
       "output_type": "stream",
       "stream": "stdout",
       "text": [
        "\r",
        "|#---------| 560/3900  14% [elapsed: 00:08 left: 00:49, 67.54 iters/sec]"
       ]
      },
      {
       "output_type": "stream",
       "stream": "stdout",
       "text": [
        "\r",
        "|#---------| 574/3900  14% [elapsed: 00:08 left: 00:50, 65.24 iters/sec]"
       ]
      },
      {
       "output_type": "stream",
       "stream": "stdout",
       "text": [
        "\r",
        "|#---------| 630/3900  16% [elapsed: 00:09 left: 00:48, 67.63 iters/sec]"
       ]
      },
      {
       "output_type": "stream",
       "stream": "stdout",
       "text": [
        "\r",
        "|#---------| 645/3900  16% [elapsed: 00:09 left: 00:49, 65.51 iters/sec]"
       ]
      },
      {
       "output_type": "stream",
       "stream": "stdout",
       "text": [
        "\r",
        "|#---------| 701/3900  17% [elapsed: 00:10 left: 00:47, 67.61 iters/sec]"
       ]
      },
      {
       "output_type": "stream",
       "stream": "stdout",
       "text": [
        "\r",
        "|#---------| 716/3900  18% [elapsed: 00:10 left: 00:48, 65.72 iters/sec]"
       ]
      },
      {
       "output_type": "stream",
       "stream": "stdout",
       "text": [
        "\r",
        "|#---------| 762/3900  19% [elapsed: 00:11 left: 00:46, 66.87 iters/sec]"
       ]
      },
      {
       "output_type": "stream",
       "stream": "stdout",
       "text": [
        "\r",
        "|##--------| 786/3900  20% [elapsed: 00:11 left: 00:47, 65.99 iters/sec]"
       ]
      },
      {
       "output_type": "stream",
       "stream": "stdout",
       "text": [
        "\r",
        "|##--------| 801/3900  20% [elapsed: 00:12 left: 00:48, 64.37 iters/sec]"
       ]
      },
      {
       "output_type": "stream",
       "stream": "stdout",
       "text": [
        "\r",
        "|##--------| 857/3900  21% [elapsed: 00:12 left: 00:46, 66.11 iters/sec]"
       ]
      },
      {
       "output_type": "stream",
       "stream": "stdout",
       "text": [
        "\r",
        "|##--------| 872/3900  22% [elapsed: 00:13 left: 00:46, 64.68 iters/sec]"
       ]
      },
      {
       "output_type": "stream",
       "stream": "stdout",
       "text": [
        "\r",
        "|##--------| 928/3900  23% [elapsed: 00:14 left: 00:44, 66.28 iters/sec]"
       ]
      },
      {
       "output_type": "stream",
       "stream": "stdout",
       "text": [
        "\r",
        "|##--------| 943/3900  24% [elapsed: 00:14 left: 00:45, 64.90 iters/sec]"
       ]
      },
      {
       "output_type": "stream",
       "stream": "stdout",
       "text": [
        "\r",
        "|##--------| 988/3900  25% [elapsed: 00:15 left: 00:44, 65.72 iters/sec]"
       ]
      },
      {
       "output_type": "stream",
       "stream": "stdout",
       "text": [
        "\r",
        "|##--------| 1013/3900  25% [elapsed: 00:15 left: 00:44, 65.14 iters/sec]"
       ]
      },
      {
       "output_type": "stream",
       "stream": "stdout",
       "text": [
        "\r",
        "|##--------| 1027/3900  26% [elapsed: 00:16 left: 00:44, 63.98 iters/sec]"
       ]
      },
      {
       "output_type": "stream",
       "stream": "stdout",
       "text": [
        "\r",
        "|##--------| 1083/3900  27% [elapsed: 00:16 left: 00:43, 65.33 iters/sec]"
       ]
      },
      {
       "output_type": "stream",
       "stream": "stdout",
       "text": [
        "\r",
        "|##--------| 1098/3900  28% [elapsed: 00:17 left: 00:43, 64.18 iters/sec]"
       ]
      },
      {
       "output_type": "stream",
       "stream": "stdout",
       "text": [
        "\r",
        "|##--------| 1154/3900  29% [elapsed: 00:17 left: 00:41, 65.44 iters/sec]"
       ]
      },
      {
       "output_type": "stream",
       "stream": "stdout",
       "text": [
        "\r",
        "|##--------| 1169/3900  29% [elapsed: 00:18 left: 00:42, 64.37 iters/sec]"
       ]
      },
      {
       "output_type": "stream",
       "stream": "stdout",
       "text": [
        "\r",
        "|###-------| 1209/3900  31% [elapsed: 00:18 left: 00:41, 64.78 iters/sec]"
       ]
      },
      {
       "output_type": "stream",
       "stream": "stdout",
       "text": [
        "\r",
        "|###-------| 1239/3900  31% [elapsed: 00:19 left: 00:41, 64.60 iters/sec]"
       ]
      },
      {
       "output_type": "stream",
       "stream": "stdout",
       "text": [
        "\r",
        "|###-------| 1254/3900  32% [elapsed: 00:19 left: 00:41, 63.61 iters/sec]"
       ]
      },
      {
       "output_type": "stream",
       "stream": "stdout",
       "text": [
        "\r",
        "|###-------| 1310/3900  33% [elapsed: 00:20 left: 00:40, 64.72 iters/sec]"
       ]
      },
      {
       "output_type": "stream",
       "stream": "stdout",
       "text": [
        "\r",
        "|###-------| 1324/3900  33% [elapsed: 00:20 left: 00:40, 63.83 iters/sec]"
       ]
      },
      {
       "output_type": "stream",
       "stream": "stdout",
       "text": [
        "\r",
        "|###-------| 1380/3900  35% [elapsed: 00:21 left: 00:38, 64.88 iters/sec]"
       ]
      },
      {
       "output_type": "stream",
       "stream": "stdout",
       "text": [
        "\r",
        "|###-------| 1395/3900  35% [elapsed: 00:21 left: 00:39, 64.00 iters/sec]"
       ]
      },
      {
       "output_type": "stream",
       "stream": "stdout",
       "text": [
        "\r",
        "|###-------| 1427/3900  36% [elapsed: 00:22 left: 00:38, 63.99 iters/sec]"
       ]
      },
      {
       "output_type": "stream",
       "stream": "stdout",
       "text": [
        "\r",
        "|###-------| 1465/3900  37% [elapsed: 00:22 left: 00:37, 64.18 iters/sec]"
       ]
      },
      {
       "output_type": "stream",
       "stream": "stdout",
       "text": [
        "\r",
        "|###-------| 1479/3900  37% [elapsed: 00:23 left: 00:38, 63.40 iters/sec]"
       ]
      },
      {
       "output_type": "stream",
       "stream": "stdout",
       "text": [
        "\r",
        "|###-------| 1535/3900  39% [elapsed: 00:23 left: 00:36, 64.33 iters/sec]"
       ]
      },
      {
       "output_type": "stream",
       "stream": "stdout",
       "text": [
        "\r",
        "|###-------| 1550/3900  39% [elapsed: 00:24 left: 00:36, 63.54 iters/sec]"
       ]
      },
      {
       "output_type": "stream",
       "stream": "stdout",
       "text": [
        "\r",
        "|####------| 1606/3900  41% [elapsed: 00:24 left: 00:35, 64.43 iters/sec]"
       ]
      },
      {
       "output_type": "stream",
       "stream": "stdout",
       "text": [
        "\r",
        "|####------| 1621/3900  41% [elapsed: 00:25 left: 00:35, 63.70 iters/sec]"
       ]
      },
      {
       "output_type": "stream",
       "stream": "stdout",
       "text": [
        "\r",
        "|####------| 1654/3900  42% [elapsed: 00:25 left: 00:35, 63.73 iters/sec]"
       ]
      },
      {
       "output_type": "stream",
       "stream": "stdout",
       "text": [
        "\r",
        "|####------| 1691/3900  43% [elapsed: 00:26 left: 00:34, 63.86 iters/sec]"
       ]
      },
      {
       "output_type": "stream",
       "stream": "stdout",
       "text": [
        "\r",
        "|####------| 1706/3900  43% [elapsed: 00:27 left: 00:34, 63.17 iters/sec]"
       ]
      },
      {
       "output_type": "stream",
       "stream": "stdout",
       "text": [
        "\r",
        "|####------| 1762/3900  45% [elapsed: 00:27 left: 00:33, 64.02 iters/sec]"
       ]
      },
      {
       "output_type": "stream",
       "stream": "stdout",
       "text": [
        "\r",
        "|####------| 1777/3900  45% [elapsed: 00:28 left: 00:33, 63.35 iters/sec]"
       ]
      },
      {
       "output_type": "stream",
       "stream": "stdout",
       "text": [
        "\r",
        "|####------| 1833/3900  47% [elapsed: 00:28 left: 00:32, 64.14 iters/sec]"
       ]
      },
      {
       "output_type": "stream",
       "stream": "stdout",
       "text": [
        "\r",
        "|####------| 1847/3900  47% [elapsed: 00:29 left: 00:32, 63.52 iters/sec]"
       ]
      },
      {
       "output_type": "stream",
       "stream": "stdout",
       "text": [
        "\r",
        "|####------| 1873/3900  48% [elapsed: 00:29 left: 00:32, 63.32 iters/sec]"
       ]
      },
      {
       "output_type": "stream",
       "stream": "stdout",
       "text": [
        "\r",
        "|####------| 1917/3900  49% [elapsed: 00:30 left: 00:31, 63.68 iters/sec]"
       ]
      },
      {
       "output_type": "stream",
       "stream": "stdout",
       "text": [
        "\r",
        "|####------| 1932/3900  49% [elapsed: 00:30 left: 00:31, 63.07 iters/sec]"
       ]
      },
      {
       "output_type": "stream",
       "stream": "stdout",
       "text": [
        "\r",
        "|#####-----| 1988/3900  50% [elapsed: 00:31 left: 00:29, 63.79 iters/sec]"
       ]
      },
      {
       "output_type": "stream",
       "stream": "stdout",
       "text": [
        "\r",
        "|#####-----| 2003/3900  51% [elapsed: 00:31 left: 00:30, 63.21 iters/sec]"
       ]
      },
      {
       "output_type": "stream",
       "stream": "stdout",
       "text": [
        "\r",
        "|#####-----| 2054/3900  52% [elapsed: 00:32 left: 00:28, 63.81 iters/sec]"
       ]
      },
      {
       "output_type": "stream",
       "stream": "stdout",
       "text": [
        "\r",
        "|#####-----| 2073/3900  53% [elapsed: 00:32 left: 00:28, 63.38 iters/sec]"
       ]
      },
      {
       "output_type": "stream",
       "stream": "stdout",
       "text": [
        "\r",
        "|#####-----| 2094/3900  53% [elapsed: 00:33 left: 00:28, 63.06 iters/sec]"
       ]
      },
      {
       "output_type": "stream",
       "stream": "stdout",
       "text": [
        "\r",
        "|#####-----| 2143/3900  54% [elapsed: 00:33 left: 00:27, 63.52 iters/sec]"
       ]
      },
      {
       "output_type": "stream",
       "stream": "stdout",
       "text": [
        "\r",
        "|#####-----| 2157/3900  55% [elapsed: 00:34 left: 00:27, 63.00 iters/sec]"
       ]
      },
      {
       "output_type": "stream",
       "stream": "stdout",
       "text": [
        "\r",
        "|#####-----| 2213/3900  56% [elapsed: 00:34 left: 00:26, 63.66 iters/sec]"
       ]
      },
      {
       "output_type": "stream",
       "stream": "stdout",
       "text": [
        "\r",
        "|#####-----| 2227/3900  57% [elapsed: 00:35 left: 00:26, 63.15 iters/sec]"
       ]
      },
      {
       "output_type": "stream",
       "stream": "stdout",
       "text": [
        "\r",
        "|#####-----| 2266/3900  58% [elapsed: 00:35 left: 00:25, 63.35 iters/sec]"
       ]
      },
      {
       "output_type": "stream",
       "stream": "stdout",
       "text": [
        "\r",
        "|#####-----| 2297/3900  58% [elapsed: 00:36 left: 00:25, 63.28 iters/sec]"
       ]
      },
      {
       "output_type": "stream",
       "stream": "stdout",
       "text": [
        "\r",
        "|#####-----| 2312/3900  59% [elapsed: 00:36 left: 00:25, 62.77 iters/sec]"
       ]
      },
      {
       "output_type": "stream",
       "stream": "stdout",
       "text": [
        "\r",
        "|######----| 2368/3900  60% [elapsed: 00:37 left: 00:24, 63.39 iters/sec]"
       ]
      },
      {
       "output_type": "stream",
       "stream": "stdout",
       "text": [
        "\r",
        "|######----| 2383/3900  61% [elapsed: 00:37 left: 00:24, 62.90 iters/sec]"
       ]
      },
      {
       "output_type": "stream",
       "stream": "stdout",
       "text": [
        "\r",
        "|######----| 2439/3900  62% [elapsed: 00:38 left: 00:23, 63.49 iters/sec]"
       ]
      },
      {
       "output_type": "stream",
       "stream": "stdout",
       "text": [
        "\r",
        "|######----| 2454/3900  62% [elapsed: 00:38 left: 00:22, 63.01 iters/sec]"
       ]
      },
      {
       "output_type": "stream",
       "stream": "stdout",
       "text": [
        "\r",
        "|######----| 2494/3900  63% [elapsed: 00:39 left: 00:22, 63.21 iters/sec]"
       ]
      },
      {
       "output_type": "stream",
       "stream": "stdout",
       "text": [
        "\r",
        "|######----| 2524/3900  64% [elapsed: 00:39 left: 00:21, 63.14 iters/sec]"
       ]
      },
      {
       "output_type": "stream",
       "stream": "stdout",
       "text": [
        "\r",
        "|######----| 2539/3900  65% [elapsed: 00:40 left: 00:21, 62.68 iters/sec]"
       ]
      },
      {
       "output_type": "stream",
       "stream": "stdout",
       "text": [
        "\r",
        "|######----| 2595/3900  66% [elapsed: 00:41 left: 00:20, 63.24 iters/sec]"
       ]
      },
      {
       "output_type": "stream",
       "stream": "stdout",
       "text": [
        "\r",
        "|######----| 2610/3900  66% [elapsed: 00:41 left: 00:20, 62.80 iters/sec]"
       ]
      },
      {
       "output_type": "stream",
       "stream": "stdout",
       "text": [
        "\r",
        "|######----| 2666/3900  68% [elapsed: 00:42 left: 00:19, 63.34 iters/sec]"
       ]
      },
      {
       "output_type": "stream",
       "stream": "stdout",
       "text": [
        "\r",
        "|######----| 2681/3900  68% [elapsed: 00:42 left: 00:19, 62.90 iters/sec]"
       ]
      },
      {
       "output_type": "stream",
       "stream": "stdout",
       "text": [
        "\r",
        "|######----| 2721/3900  69% [elapsed: 00:43 left: 00:18, 63.10 iters/sec]"
       ]
      },
      {
       "output_type": "stream",
       "stream": "stdout",
       "text": [
        "\r",
        "|#######---| 2751/3900  70% [elapsed: 00:43 left: 00:18, 63.04 iters/sec]"
       ]
      },
      {
       "output_type": "stream",
       "stream": "stdout",
       "text": [
        "\r",
        "|#######---| 2765/3900  70% [elapsed: 00:44 left: 00:18, 62.62 iters/sec]"
       ]
      },
      {
       "output_type": "stream",
       "stream": "stdout",
       "text": [
        "\r",
        "|#######---| 2820/3900  72% [elapsed: 00:44 left: 00:17, 63.12 iters/sec]"
       ]
      },
      {
       "output_type": "stream",
       "stream": "stdout",
       "text": [
        "\r",
        "|#######---| 2834/3900  72% [elapsed: 00:45 left: 00:16, 62.72 iters/sec]"
       ]
      },
      {
       "output_type": "stream",
       "stream": "stdout",
       "text": [
        "\r",
        "|#######---| 2883/3900  73% [elapsed: 00:45 left: 00:16, 63.11 iters/sec]"
       ]
      },
      {
       "output_type": "stream",
       "stream": "stdout",
       "text": [
        "\r",
        "|#######---| 2903/3900  74% [elapsed: 00:46 left: 00:15, 62.85 iters/sec]"
       ]
      },
      {
       "output_type": "stream",
       "stream": "stdout",
       "text": [
        "\r",
        "|#######---| 2918/3900  74% [elapsed: 00:46 left: 00:15, 62.45 iters/sec]"
       ]
      },
      {
       "output_type": "stream",
       "stream": "stdout",
       "text": [
        "\r",
        "|#######---| 2974/3900  76% [elapsed: 00:47 left: 00:14, 62.94 iters/sec]"
       ]
      },
      {
       "output_type": "stream",
       "stream": "stdout",
       "text": [
        "\r",
        "|#######---| 2989/3900  76% [elapsed: 00:47 left: 00:14, 62.55 iters/sec]"
       ]
      },
      {
       "output_type": "stream",
       "stream": "stdout",
       "text": [
        "\r",
        "|#######---| 3045/3900  78% [elapsed: 00:48 left: 00:13, 63.01 iters/sec]"
       ]
      },
      {
       "output_type": "stream",
       "stream": "stdout",
       "text": [
        "\r",
        "|#######---| 3060/3900  78% [elapsed: 00:48 left: 00:13, 62.63 iters/sec]"
       ]
      },
      {
       "output_type": "stream",
       "stream": "stdout",
       "text": [
        "\r",
        "|#######---| 3105/3900  79% [elapsed: 00:49 left: 00:12, 62.91 iters/sec]"
       ]
      },
      {
       "output_type": "stream",
       "stream": "stdout",
       "text": [
        "\r",
        "|########--| 3130/3900  80% [elapsed: 00:49 left: 00:12, 62.76 iters/sec]"
       ]
      },
      {
       "output_type": "stream",
       "stream": "stdout",
       "text": [
        "\r",
        "|########--| 3145/3900  80% [elapsed: 00:50 left: 00:12, 62.40 iters/sec]"
       ]
      },
      {
       "output_type": "stream",
       "stream": "stdout",
       "text": [
        "\r",
        "|########--| 3201/3900  82% [elapsed: 00:50 left: 00:11, 62.86 iters/sec]"
       ]
      },
      {
       "output_type": "stream",
       "stream": "stdout",
       "text": [
        "\r",
        "|########--| 3216/3900  82% [elapsed: 00:51 left: 00:10, 62.52 iters/sec]"
       ]
      },
      {
       "output_type": "stream",
       "stream": "stdout",
       "text": [
        "\r",
        "|########--| 3272/3900  83% [elapsed: 00:51 left: 00:09, 62.98 iters/sec]"
       ]
      },
      {
       "output_type": "stream",
       "stream": "stdout",
       "text": [
        "\r",
        "|########--| 3286/3900  84% [elapsed: 00:52 left: 00:09, 62.64 iters/sec]"
       ]
      },
      {
       "output_type": "stream",
       "stream": "stdout",
       "text": [
        "\r",
        "|########--| 3326/3900  85% [elapsed: 00:52 left: 00:09, 62.80 iters/sec]"
       ]
      },
      {
       "output_type": "stream",
       "stream": "stdout",
       "text": [
        "\r",
        "|########--| 3356/3900  86% [elapsed: 00:53 left: 00:08, 62.75 iters/sec]"
       ]
      },
      {
       "output_type": "stream",
       "stream": "stdout",
       "text": [
        "\r",
        "|########--| 3370/3900  86% [elapsed: 00:54 left: 00:08, 62.41 iters/sec]"
       ]
      },
      {
       "output_type": "stream",
       "stream": "stdout",
       "text": [
        "\r",
        "|########--| 3425/3900  87% [elapsed: 00:54 left: 00:07, 62.84 iters/sec]"
       ]
      },
      {
       "output_type": "stream",
       "stream": "stdout",
       "text": [
        "\r",
        "|########--| 3439/3900  88% [elapsed: 00:55 left: 00:07, 62.51 iters/sec]"
       ]
      },
      {
       "output_type": "stream",
       "stream": "stdout",
       "text": [
        "\r",
        "|########--| 3488/3900  89% [elapsed: 00:55 left: 00:06, 62.83 iters/sec]"
       ]
      },
      {
       "output_type": "stream",
       "stream": "stdout",
       "text": [
        "\r",
        "|########--| 3508/3900  89% [elapsed: 00:56 left: 00:06, 62.61 iters/sec]"
       ]
      },
      {
       "output_type": "stream",
       "stream": "stdout",
       "text": [
        "\r",
        "|#########-| 3522/3900  90% [elapsed: 00:56 left: 00:06, 62.29 iters/sec]"
       ]
      },
      {
       "output_type": "stream",
       "stream": "stdout",
       "text": [
        "\r",
        "|#########-| 3577/3900  91% [elapsed: 00:57 left: 00:05, 62.69 iters/sec]"
       ]
      },
      {
       "output_type": "stream",
       "stream": "stdout",
       "text": [
        "\r",
        "|#########-| 3591/3900  92% [elapsed: 00:57 left: 00:04, 62.37 iters/sec]"
       ]
      },
      {
       "output_type": "stream",
       "stream": "stdout",
       "text": [
        "\r",
        "|#########-| 3646/3900  93% [elapsed: 00:58 left: 00:04, 62.78 iters/sec]"
       ]
      },
      {
       "output_type": "stream",
       "stream": "stdout",
       "text": [
        "\r",
        "|#########-| 3660/3900  93% [elapsed: 00:58 left: 00:03, 62.47 iters/sec]"
       ]
      },
      {
       "output_type": "stream",
       "stream": "stdout",
       "text": [
        "\r",
        "|#########-| 3674/3900  94% [elapsed: 00:59 left: 00:03, 62.17 iters/sec]"
       ]
      },
      {
       "output_type": "stream",
       "stream": "stdout",
       "text": [
        "\r",
        "|#########-| 3729/3900  95% [elapsed: 00:59 left: 00:02, 62.56 iters/sec]"
       ]
      },
      {
       "output_type": "stream",
       "stream": "stdout",
       "text": [
        "\r",
        "|#########-| 3743/3900  95% [elapsed: 01:00 left: 00:02, 62.27 iters/sec]"
       ]
      },
      {
       "output_type": "stream",
       "stream": "stdout",
       "text": [
        "\r",
        "|#########-| 3799/3900  97% [elapsed: 01:00 left: 00:01, 62.66 iters/sec]"
       ]
      },
      {
       "output_type": "stream",
       "stream": "stdout",
       "text": [
        "\r",
        "|#########-| 3814/3900  97% [elapsed: 01:01 left: 00:01, 62.36 iters/sec]"
       ]
      },
      {
       "output_type": "stream",
       "stream": "stdout",
       "text": [
        "\r",
        "|#########-| 3845/3900  98% [elapsed: 01:01 left: 00:00, 62.36 iters/sec]"
       ]
      },
      {
       "output_type": "stream",
       "stream": "stdout",
       "text": [
        "\r",
        "|#########-| 3884/3900  99% [elapsed: 01:02 left: 00:00, 62.45 iters/sec]"
       ]
      },
      {
       "output_type": "stream",
       "stream": "stdout",
       "text": [
        "\r",
        "|#########-| 3898/3900  99% [elapsed: 01:02 left: 00:00, 62.18 iters/sec]"
       ]
      },
      {
       "output_type": "stream",
       "stream": "stdout",
       "text": [
        "\r",
        "                                                                         "
       ]
      },
      {
       "output_type": "stream",
       "stream": "stdout",
       "text": [
        "\r",
        "Done writing video in SamsungVariationsPart1TEMP_MPY_to_videofile.avi !"
       ]
      },
      {
       "output_type": "stream",
       "stream": "stdout",
       "text": [
        "\n",
        "\n",
        "Now merging video and audio:\n"
       ]
      },
      {
       "output_type": "stream",
       "stream": "stdout",
       "text": [
        "\n",
        "MoviePy Running:\n",
        ">>> ffmpeg -y -i SamsungVariationsPart1TEMP_MPY_to_videofile_SOUND.ogg -i SamsungVariationsPart1TEMP_MPY_to_videofile.avi -vcodec copy -acodec copy SamsungVariationsPart1.avi"
       ]
      },
      {
       "output_type": "stream",
       "stream": "stdout",
       "text": [
        "\n",
        "... command successful.\n"
       ]
      },
      {
       "output_type": "stream",
       "stream": "stdout",
       "text": [
        "\n",
        "Your video is ready ! Fingers crossed for the Oscars !\n"
       ]
      },
      {
       "output_type": "stream",
       "stream": "stdout",
       "text": [
        "\n"
       ]
      }
     ],
     "prompt_number": 10
    },
    {
     "cell_type": "code",
     "collapsed": false,
     "input": [
      "partial_loop(50, 70, \"SamsungVariationsPart2\")"
     ],
     "language": "python",
     "metadata": {},
     "outputs": [
      {
       "output_type": "stream",
       "stream": "stdout",
       "text": [
        "51 "
       ]
      },
      {
       "output_type": "stream",
       "stream": "stdout",
       "text": [
        "52 "
       ]
      },
      {
       "output_type": "stream",
       "stream": "stdout",
       "text": [
        "53 "
       ]
      },
      {
       "output_type": "stream",
       "stream": "stdout",
       "text": [
        "54 "
       ]
      },
      {
       "output_type": "stream",
       "stream": "stdout",
       "text": [
        "55 "
       ]
      },
      {
       "output_type": "stream",
       "stream": "stdout",
       "text": [
        "56 "
       ]
      },
      {
       "output_type": "stream",
       "stream": "stdout",
       "text": [
        "57 "
       ]
      },
      {
       "output_type": "stream",
       "stream": "stdout",
       "text": [
        "58 "
       ]
      },
      {
       "output_type": "stream",
       "stream": "stdout",
       "text": [
        "59 "
       ]
      },
      {
       "output_type": "stream",
       "stream": "stdout",
       "text": [
        "60 "
       ]
      },
      {
       "output_type": "stream",
       "stream": "stdout",
       "text": [
        "61 "
       ]
      },
      {
       "output_type": "stream",
       "stream": "stdout",
       "text": [
        "62 "
       ]
      },
      {
       "output_type": "stream",
       "stream": "stdout",
       "text": [
        "63 "
       ]
      },
      {
       "output_type": "stream",
       "stream": "stdout",
       "text": [
        "64 "
       ]
      },
      {
       "output_type": "stream",
       "stream": "stdout",
       "text": [
        "65 "
       ]
      },
      {
       "output_type": "stream",
       "stream": "stdout",
       "text": [
        "66 "
       ]
      },
      {
       "output_type": "stream",
       "stream": "stdout",
       "text": [
        "67 "
       ]
      },
      {
       "output_type": "stream",
       "stream": "stdout",
       "text": [
        "68 "
       ]
      },
      {
       "output_type": "stream",
       "stream": "stdout",
       "text": [
        "69 "
       ]
      },
      {
       "output_type": "stream",
       "stream": "stdout",
       "text": [
        "70 "
       ]
      },
      {
       "output_type": "stream",
       "stream": "stdout",
       "text": [
        "71 "
       ]
      },
      {
       "output_type": "stream",
       "stream": "stdout",
       "text": [
        "72 "
       ]
      },
      {
       "output_type": "stream",
       "stream": "stdout",
       "text": [
        "73 "
       ]
      },
      {
       "output_type": "stream",
       "stream": "stdout",
       "text": [
        "74 "
       ]
      },
      {
       "output_type": "stream",
       "stream": "stdout",
       "text": [
        "75 "
       ]
      },
      {
       "output_type": "stream",
       "stream": "stdout",
       "text": [
        "76 "
       ]
      },
      {
       "output_type": "stream",
       "stream": "stdout",
       "text": [
        "77 "
       ]
      },
      {
       "output_type": "stream",
       "stream": "stdout",
       "text": [
        "78 "
       ]
      },
      {
       "output_type": "stream",
       "stream": "stdout",
       "text": [
        "79 "
       ]
      },
      {
       "output_type": "stream",
       "stream": "stdout",
       "text": [
        "80 "
       ]
      },
      {
       "output_type": "stream",
       "stream": "stdout",
       "text": [
        "81 "
       ]
      },
      {
       "output_type": "stream",
       "stream": "stdout",
       "text": [
        "82 "
       ]
      },
      {
       "output_type": "stream",
       "stream": "stdout",
       "text": [
        "83 "
       ]
      },
      {
       "output_type": "stream",
       "stream": "stdout",
       "text": [
        "84 "
       ]
      },
      {
       "output_type": "stream",
       "stream": "stdout",
       "text": [
        "85 "
       ]
      },
      {
       "output_type": "stream",
       "stream": "stdout",
       "text": [
        "86 "
       ]
      },
      {
       "output_type": "stream",
       "stream": "stdout",
       "text": [
        "87 "
       ]
      },
      {
       "output_type": "stream",
       "stream": "stdout",
       "text": [
        "88 "
       ]
      },
      {
       "output_type": "stream",
       "stream": "stdout",
       "text": [
        "89 "
       ]
      },
      {
       "output_type": "stream",
       "stream": "stdout",
       "text": [
        "90 "
       ]
      },
      {
       "output_type": "stream",
       "stream": "stdout",
       "text": [
        "91 "
       ]
      },
      {
       "output_type": "stream",
       "stream": "stdout",
       "text": [
        "92 "
       ]
      },
      {
       "output_type": "stream",
       "stream": "stdout",
       "text": [
        "93 "
       ]
      },
      {
       "output_type": "stream",
       "stream": "stdout",
       "text": [
        "94 "
       ]
      },
      {
       "output_type": "stream",
       "stream": "stdout",
       "text": [
        "95 "
       ]
      },
      {
       "output_type": "stream",
       "stream": "stdout",
       "text": [
        "96 "
       ]
      },
      {
       "output_type": "stream",
       "stream": "stdout",
       "text": [
        "97 "
       ]
      },
      {
       "output_type": "stream",
       "stream": "stdout",
       "text": [
        "98 "
       ]
      },
      {
       "output_type": "stream",
       "stream": "stdout",
       "text": [
        "99 "
       ]
      },
      {
       "output_type": "stream",
       "stream": "stdout",
       "text": [
        "100 "
       ]
      },
      {
       "output_type": "stream",
       "stream": "stdout",
       "text": [
        "101 "
       ]
      },
      {
       "output_type": "stream",
       "stream": "stdout",
       "text": [
        "102 "
       ]
      },
      {
       "output_type": "stream",
       "stream": "stdout",
       "text": [
        "103 "
       ]
      },
      {
       "output_type": "stream",
       "stream": "stdout",
       "text": [
        "104 "
       ]
      },
      {
       "output_type": "stream",
       "stream": "stdout",
       "text": [
        "105 "
       ]
      },
      {
       "output_type": "stream",
       "stream": "stdout",
       "text": [
        "106 "
       ]
      },
      {
       "output_type": "stream",
       "stream": "stdout",
       "text": [
        "107 "
       ]
      },
      {
       "output_type": "stream",
       "stream": "stdout",
       "text": [
        "108 "
       ]
      },
      {
       "output_type": "stream",
       "stream": "stdout",
       "text": [
        "109 "
       ]
      },
      {
       "output_type": "stream",
       "stream": "stdout",
       "text": [
        "110 "
       ]
      },
      {
       "output_type": "stream",
       "stream": "stdout",
       "text": [
        "111 "
       ]
      },
      {
       "output_type": "stream",
       "stream": "stdout",
       "text": [
        "112 "
       ]
      },
      {
       "output_type": "stream",
       "stream": "stdout",
       "text": [
        "113 "
       ]
      },
      {
       "output_type": "stream",
       "stream": "stdout",
       "text": [
        "114 "
       ]
      },
      {
       "output_type": "stream",
       "stream": "stdout",
       "text": [
        "115 "
       ]
      },
      {
       "output_type": "stream",
       "stream": "stdout",
       "text": [
        "116 "
       ]
      },
      {
       "output_type": "stream",
       "stream": "stdout",
       "text": [
        "117 "
       ]
      },
      {
       "output_type": "stream",
       "stream": "stdout",
       "text": [
        "118 "
       ]
      },
      {
       "output_type": "stream",
       "stream": "stdout",
       "text": [
        "119 "
       ]
      },
      {
       "output_type": "stream",
       "stream": "stdout",
       "text": [
        "120\n",
        "MoviePy: building video file SamsungVariationsPart2.avi\n",
        "----------------------------------------\n"
       ]
      },
      {
       "output_type": "stream",
       "stream": "stdout",
       "text": [
        "Writing audio in SamsungVariationsPart2TEMP_MPY_to_videofile_SOUND.ogg\n"
       ]
      },
      {
       "output_type": "stream",
       "stream": "stdout",
       "text": [
        "\r",
        "|----------| 0/4863   0% [elapsed: 00:00 left: ?, ? iters/sec]"
       ]
      },
      {
       "output_type": "stream",
       "stream": "stdout",
       "text": [
        "\r",
        "|----------| 191/4863   3% [elapsed: 00:00 left: 00:12, 380.48 iters/sec]"
       ]
      },
      {
       "output_type": "stream",
       "stream": "stdout",
       "text": [
        "\r",
        "|----------| 409/4863   8% [elapsed: 00:01 left: 00:10, 407.78 iters/sec]"
       ]
      },
      {
       "output_type": "stream",
       "stream": "stdout",
       "text": [
        "\r",
        "|#---------| 607/4863  12% [elapsed: 00:01 left: 00:10, 403.32 iters/sec]"
       ]
      },
      {
       "output_type": "stream",
       "stream": "stdout",
       "text": [
        "\r",
        "|#---------| 828/4863  17% [elapsed: 00:02 left: 00:09, 412.76 iters/sec]"
       ]
      },
      {
       "output_type": "stream",
       "stream": "stdout",
       "text": [
        "\r",
        "|##--------| 1050/4863  21% [elapsed: 00:02 left: 00:09, 418.99 iters/sec]"
       ]
      },
      {
       "output_type": "stream",
       "stream": "stdout",
       "text": [
        "\r",
        "|##--------| 1274/4863  26% [elapsed: 00:03 left: 00:08, 423.68 iters/sec]"
       ]
      },
      {
       "output_type": "stream",
       "stream": "stdout",
       "text": [
        "\r",
        "|###-------| 1499/4863  30% [elapsed: 00:03 left: 00:07, 427.43 iters/sec]"
       ]
      },
      {
       "output_type": "stream",
       "stream": "stdout",
       "text": [
        "\r",
        "|###-------| 1718/4863  35% [elapsed: 00:04 left: 00:07, 428.75 iters/sec]"
       ]
      },
      {
       "output_type": "stream",
       "stream": "stdout",
       "text": [
        "\r",
        "|###-------| 1941/4863  39% [elapsed: 00:04 left: 00:06, 430.66 iters/sec]"
       ]
      },
      {
       "output_type": "stream",
       "stream": "stdout",
       "text": [
        "\r",
        "|####------| 2163/4863  44% [elapsed: 00:05 left: 00:06, 431.91 iters/sec]"
       ]
      },
      {
       "output_type": "stream",
       "stream": "stdout",
       "text": [
        "\r",
        "|####------| 2394/4863  49% [elapsed: 00:05 left: 00:05, 434.56 iters/sec]"
       ]
      },
      {
       "output_type": "stream",
       "stream": "stdout",
       "text": [
        "\r",
        "|#####-----| 2618/4863  53% [elapsed: 00:06 left: 00:05, 435.46 iters/sec]"
       ]
      },
      {
       "output_type": "stream",
       "stream": "stdout",
       "text": [
        "\r",
        "|#####-----| 2840/4863  58% [elapsed: 00:06 left: 00:04, 435.98 iters/sec]"
       ]
      },
      {
       "output_type": "stream",
       "stream": "stdout",
       "text": [
        "\r",
        "|######----| 3058/4863  62% [elapsed: 00:07 left: 00:04, 435.99 iters/sec]"
       ]
      },
      {
       "output_type": "stream",
       "stream": "stdout",
       "text": [
        "\r",
        "|######----| 3290/4863  67% [elapsed: 00:07 left: 00:03, 437.79 iters/sec]"
       ]
      },
      {
       "output_type": "stream",
       "stream": "stdout",
       "text": [
        "\r",
        "|#######---| 3508/4863  72% [elapsed: 00:08 left: 00:03, 437.68 iters/sec]"
       ]
      },
      {
       "output_type": "stream",
       "stream": "stdout",
       "text": [
        "\r",
        "|#######---| 3730/4863  76% [elapsed: 00:08 left: 00:02, 438.05 iters/sec]"
       ]
      },
      {
       "output_type": "stream",
       "stream": "stdout",
       "text": [
        "\r",
        "|########--| 3947/4863  81% [elapsed: 00:09 left: 00:02, 437.83 iters/sec]"
       ]
      },
      {
       "output_type": "stream",
       "stream": "stdout",
       "text": [
        "\r",
        "|########--| 4165/4863  85% [elapsed: 00:09 left: 00:01, 437.73 iters/sec]"
       ]
      },
      {
       "output_type": "stream",
       "stream": "stdout",
       "text": [
        "\r",
        "|#########-| 4388/4863  90% [elapsed: 00:10 left: 00:01, 438.10 iters/sec]"
       ]
      },
      {
       "output_type": "stream",
       "stream": "stdout",
       "text": [
        "\r",
        "|#########-| 4616/4863  94% [elapsed: 00:10 left: 00:00, 438.95 iters/sec]"
       ]
      },
      {
       "output_type": "stream",
       "stream": "stdout",
       "text": [
        "\r",
        "|#########-| 4841/4863  99% [elapsed: 00:11 left: 00:00, 439.37 iters/sec]"
       ]
      },
      {
       "output_type": "stream",
       "stream": "stdout",
       "text": [
        "\r",
        "                                                                          "
       ]
      },
      {
       "output_type": "stream",
       "stream": "stdout",
       "text": [
        "\r",
        "Done writing Audio in SamsungVariationsPart2TEMP_MPY_to_videofile_SOUND.ogg !\n"
       ]
      },
      {
       "output_type": "stream",
       "stream": "stdout",
       "text": [
        "\n",
        "Writing video into SamsungVariationsPart2TEMP_MPY_to_videofile.avi\n"
       ]
      },
      {
       "output_type": "stream",
       "stream": "stdout",
       "text": [
        "\r",
        "|----------| 0/5292   0% [elapsed: 00:00 left: ?, ? iters/sec]"
       ]
      },
      {
       "output_type": "stream",
       "stream": "stdout",
       "text": [
        "\r",
        "|----------| 55/5292   1% [elapsed: 00:00 left: 00:49, 106.80 iters/sec]"
       ]
      },
      {
       "output_type": "stream",
       "stream": "stdout",
       "text": [
        "\r",
        "|----------| 70/5292   1% [elapsed: 00:01 left: 01:18, 66.73 iters/sec] "
       ]
      },
      {
       "output_type": "stream",
       "stream": "stdout",
       "text": [
        "\r",
        "|----------| 126/5292   2% [elapsed: 00:01 left: 01:04, 80.36 iters/sec]"
       ]
      },
      {
       "output_type": "stream",
       "stream": "stdout",
       "text": [
        "\r",
        "|----------| 140/5292   2% [elapsed: 00:02 left: 01:16, 67.60 iters/sec]"
       ]
      },
      {
       "output_type": "stream",
       "stream": "stdout",
       "text": [
        "\r",
        "|----------| 165/5292   3% [elapsed: 00:02 left: 01:19, 64.13 iters/sec]"
       ]
      },
      {
       "output_type": "stream",
       "stream": "stdout",
       "text": [
        "\r",
        "|----------| 209/5292   3% [elapsed: 00:03 left: 01:14, 67.79 iters/sec]"
       ]
      },
      {
       "output_type": "stream",
       "stream": "stdout",
       "text": [
        "\r",
        "|----------| 223/5292   4% [elapsed: 00:03 left: 01:21, 62.03 iters/sec]"
       ]
      },
      {
       "output_type": "stream",
       "stream": "stdout",
       "text": [
        "\r",
        "|----------| 278/5292   5% [elapsed: 00:04 left: 01:14, 67.74 iters/sec]"
       ]
      },
      {
       "output_type": "stream",
       "stream": "stdout",
       "text": [
        "\r",
        "|----------| 292/5292   5% [elapsed: 00:04 left: 01:18, 63.41 iters/sec]"
       ]
      },
      {
       "output_type": "stream",
       "stream": "stdout",
       "text": [
        "\r",
        "|----------| 323/5292   6% [elapsed: 00:05 left: 01:18, 63.23 iters/sec]"
       ]
      },
      {
       "output_type": "stream",
       "stream": "stdout",
       "text": [
        "\r",
        "|----------| 361/5292   6% [elapsed: 00:05 left: 01:16, 64.34 iters/sec]"
       ]
      },
      {
       "output_type": "stream",
       "stream": "stdout",
       "text": [
        "\r",
        "|----------| 376/5292   7% [elapsed: 00:06 left: 01:20, 61.17 iters/sec]"
       ]
      },
      {
       "output_type": "stream",
       "stream": "stdout",
       "text": [
        "\r",
        "|----------| 430/5292   8% [elapsed: 00:06 left: 01:15, 64.65 iters/sec]"
       ]
      },
      {
       "output_type": "stream",
       "stream": "stdout",
       "text": [
        "\r",
        "|----------| 444/5292   8% [elapsed: 00:07 left: 01:18, 61.98 iters/sec]"
       ]
      },
      {
       "output_type": "stream",
       "stream": "stdout",
       "text": [
        "\r",
        "|----------| 481/5292   9% [elapsed: 00:07 left: 01:16, 62.73 iters/sec]"
       ]
      },
      {
       "output_type": "stream",
       "stream": "stdout",
       "text": [
        "\r",
        "|----------| 513/5292   9% [elapsed: 00:08 left: 01:16, 62.73 iters/sec]"
       ]
      },
      {
       "output_type": "stream",
       "stream": "stdout",
       "text": [
        "\r",
        "|----------| 527/5292   9% [elapsed: 00:08 left: 01:18, 60.72 iters/sec]"
       ]
      },
      {
       "output_type": "stream",
       "stream": "stdout",
       "text": [
        "\r",
        "|#---------| 582/5292  10% [elapsed: 00:09 left: 01:14, 63.37 iters/sec]"
       ]
      },
      {
       "output_type": "stream",
       "stream": "stdout",
       "text": [
        "\r",
        "|#---------| 596/5292  11% [elapsed: 00:09 left: 01:16, 61.54 iters/sec]"
       ]
      },
      {
       "output_type": "stream",
       "stream": "stdout",
       "text": [
        "\r",
        "|#---------| 639/5292  12% [elapsed: 00:10 left: 01:14, 62.74 iters/sec]"
       ]
      },
      {
       "output_type": "stream",
       "stream": "stdout",
       "text": [
        "\r",
        "|#---------| 665/5292  12% [elapsed: 00:10 left: 01:14, 62.17 iters/sec]"
       ]
      },
      {
       "output_type": "stream",
       "stream": "stdout",
       "text": [
        "\r",
        "|#---------| 679/5292  12% [elapsed: 00:11 left: 01:16, 60.52 iters/sec]"
       ]
      },
      {
       "output_type": "stream",
       "stream": "stdout",
       "text": [
        "\r",
        "|#---------| 735/5292  13% [elapsed: 00:11 left: 01:12, 62.54 iters/sec]"
       ]
      },
      {
       "output_type": "stream",
       "stream": "stdout",
       "text": [
        "\r",
        "|#---------| 749/5292  14% [elapsed: 00:12 left: 01:14, 61.11 iters/sec]"
       ]
      },
      {
       "output_type": "stream",
       "stream": "stdout",
       "text": [
        "\r",
        "|#---------| 805/5292  15% [elapsed: 00:12 left: 01:11, 62.95 iters/sec]"
       ]
      },
      {
       "output_type": "stream",
       "stream": "stdout",
       "text": [
        "\r",
        "|#---------| 820/5292  15% [elapsed: 00:13 left: 01:12, 61.56 iters/sec]"
       ]
      },
      {
       "output_type": "stream",
       "stream": "stdout",
       "text": [
        "\r",
        "|#---------| 847/5292  16% [elapsed: 00:13 left: 01:12, 61.28 iters/sec]"
       ]
      },
      {
       "output_type": "stream",
       "stream": "stdout",
       "text": [
        "\r",
        "|#---------| 890/5292  16% [elapsed: 00:14 left: 01:10, 62.06 iters/sec]"
       ]
      },
      {
       "output_type": "stream",
       "stream": "stdout",
       "text": [
        "\r",
        "|#---------| 905/5292  17% [elapsed: 00:14 left: 01:12, 60.86 iters/sec]"
       ]
      },
      {
       "output_type": "stream",
       "stream": "stdout",
       "text": [
        "\r",
        "|#---------| 961/5292  18% [elapsed: 00:15 left: 01:09, 62.40 iters/sec]"
       ]
      },
      {
       "output_type": "stream",
       "stream": "stdout",
       "text": [
        "\r",
        "|#---------| 975/5292  18% [elapsed: 00:15 left: 01:10, 61.26 iters/sec]"
       ]
      },
      {
       "output_type": "stream",
       "stream": "stdout",
       "text": [
        "\r",
        "|#---------| 1026/5292  19% [elapsed: 00:16 left: 01:08, 62.50 iters/sec]"
       ]
      },
      {
       "output_type": "stream",
       "stream": "stdout",
       "text": [
        "\r",
        "|#---------| 1045/5292  19% [elapsed: 00:16 left: 01:08, 61.67 iters/sec]"
       ]
      },
      {
       "output_type": "stream",
       "stream": "stdout",
       "text": [
        "\r",
        "|##--------| 1059/5292  20% [elapsed: 00:17 left: 01:09, 60.67 iters/sec]"
       ]
      },
      {
       "output_type": "stream",
       "stream": "stdout",
       "text": [
        "\r",
        "|##--------| 1114/5292  21% [elapsed: 00:17 left: 01:07, 62.02 iters/sec]"
       ]
      },
      {
       "output_type": "stream",
       "stream": "stdout",
       "text": [
        "\r",
        "|##--------| 1128/5292  21% [elapsed: 00:18 left: 01:08, 61.06 iters/sec]"
       ]
      },
      {
       "output_type": "stream",
       "stream": "stdout",
       "text": [
        "\r",
        "|##--------| 1183/5292  22% [elapsed: 00:18 left: 01:05, 62.35 iters/sec]"
       ]
      },
      {
       "output_type": "stream",
       "stream": "stdout",
       "text": [
        "\r",
        "|##--------| 1198/5292  22% [elapsed: 00:19 left: 01:06, 61.41 iters/sec]"
       ]
      },
      {
       "output_type": "stream",
       "stream": "stdout",
       "text": [
        "\r",
        "|##--------| 1225/5292  23% [elapsed: 00:20 left: 01:06, 61.22 iters/sec]"
       ]
      },
      {
       "output_type": "stream",
       "stream": "stdout",
       "text": [
        "\r",
        "|##--------| 1268/5292  23% [elapsed: 00:20 left: 01:05, 61.76 iters/sec]"
       ]
      },
      {
       "output_type": "stream",
       "stream": "stdout",
       "text": [
        "\r",
        "|##--------| 1282/5292  24% [elapsed: 00:21 left: 01:05, 60.95 iters/sec]"
       ]
      },
      {
       "output_type": "stream",
       "stream": "stdout",
       "text": [
        "\r",
        "|##--------| 1338/5292  25% [elapsed: 00:21 left: 01:03, 62.04 iters/sec]"
       ]
      },
      {
       "output_type": "stream",
       "stream": "stdout",
       "text": [
        "\r",
        "|##--------| 1353/5292  25% [elapsed: 00:22 left: 01:04, 61.22 iters/sec]"
       ]
      },
      {
       "output_type": "stream",
       "stream": "stdout",
       "text": [
        "\r",
        "|##--------| 1403/5292  26% [elapsed: 00:22 left: 01:02, 62.07 iters/sec]"
       ]
      },
      {
       "output_type": "stream",
       "stream": "stdout",
       "text": [
        "\r",
        "|##--------| 1423/5292  26% [elapsed: 00:23 left: 01:02, 61.53 iters/sec]"
       ]
      },
      {
       "output_type": "stream",
       "stream": "stdout",
       "text": [
        "\r",
        "|##--------| 1438/5292  27% [elapsed: 00:23 left: 01:03, 60.86 iters/sec]"
       ]
      },
      {
       "output_type": "stream",
       "stream": "stdout",
       "text": [
        "\r",
        "|##--------| 1493/5292  28% [elapsed: 00:24 left: 01:01, 61.84 iters/sec]"
       ]
      },
      {
       "output_type": "stream",
       "stream": "stdout",
       "text": [
        "\r",
        "|##--------| 1508/5292  28% [elapsed: 00:24 left: 01:01, 61.13 iters/sec]"
       ]
      },
      {
       "output_type": "stream",
       "stream": "stdout",
       "text": [
        "\r",
        "|##--------| 1564/5292  29% [elapsed: 00:25 left: 01:00, 62.06 iters/sec]"
       ]
      },
      {
       "output_type": "stream",
       "stream": "stdout",
       "text": [
        "\r",
        "|##--------| 1579/5292  29% [elapsed: 00:25 left: 01:00, 61.36 iters/sec]"
       ]
      },
      {
       "output_type": "stream",
       "stream": "stdout",
       "text": [
        "\r",
        "|###-------| 1622/5292  30% [elapsed: 00:26 left: 00:59, 61.82 iters/sec]"
       ]
      },
      {
       "output_type": "stream",
       "stream": "stdout",
       "text": [
        "\r",
        "|###-------| 1649/5292  31% [elapsed: 00:26 left: 00:59, 61.59 iters/sec]"
       ]
      },
      {
       "output_type": "stream",
       "stream": "stdout",
       "text": [
        "\r",
        "|###-------| 1664/5292  31% [elapsed: 00:27 left: 00:59, 60.94 iters/sec]"
       ]
      },
      {
       "output_type": "stream",
       "stream": "stdout",
       "text": [
        "\r",
        "|###-------| 1720/5292  32% [elapsed: 00:27 left: 00:57, 61.79 iters/sec]"
       ]
      },
      {
       "output_type": "stream",
       "stream": "stdout",
       "text": [
        "\r",
        "|###-------| 1735/5292  32% [elapsed: 00:28 left: 00:58, 61.17 iters/sec]"
       ]
      },
      {
       "output_type": "stream",
       "stream": "stdout",
       "text": [
        "\r",
        "|###-------| 1790/5292  33% [elapsed: 00:28 left: 00:56, 62.01 iters/sec]"
       ]
      },
      {
       "output_type": "stream",
       "stream": "stdout",
       "text": [
        "\r",
        "|###-------| 1805/5292  34% [elapsed: 00:29 left: 00:56, 61.42 iters/sec]"
       ]
      },
      {
       "output_type": "stream",
       "stream": "stdout",
       "text": [
        "\r",
        "|###-------| 1844/5292  34% [elapsed: 00:29 left: 00:55, 61.69 iters/sec]"
       ]
      },
      {
       "output_type": "stream",
       "stream": "stdout",
       "text": [
        "\r",
        "|###-------| 1875/5292  35% [elapsed: 00:30 left: 00:55, 61.66 iters/sec]"
       ]
      },
      {
       "output_type": "stream",
       "stream": "stdout",
       "text": [
        "\r",
        "|###-------| 1890/5292  35% [elapsed: 00:30 left: 00:55, 61.09 iters/sec]"
       ]
      },
      {
       "output_type": "stream",
       "stream": "stdout",
       "text": [
        "\r",
        "|###-------| 1946/5292  36% [elapsed: 00:31 left: 00:54, 61.85 iters/sec]"
       ]
      },
      {
       "output_type": "stream",
       "stream": "stdout",
       "text": [
        "\r",
        "|###-------| 1961/5292  37% [elapsed: 00:31 left: 00:54, 61.30 iters/sec]"
       ]
      },
      {
       "output_type": "stream",
       "stream": "stdout",
       "text": [
        "\r",
        "|###-------| 2016/5292  38% [elapsed: 00:32 left: 00:52, 62.04 iters/sec]"
       ]
      },
      {
       "output_type": "stream",
       "stream": "stdout",
       "text": [
        "\r",
        "|###-------| 2030/5292  38% [elapsed: 00:32 left: 00:53, 61.52 iters/sec]"
       ]
      },
      {
       "output_type": "stream",
       "stream": "stdout",
       "text": [
        "\r",
        "|###-------| 2056/5292  38% [elapsed: 00:33 left: 00:52, 61.37 iters/sec]"
       ]
      },
      {
       "output_type": "stream",
       "stream": "stdout",
       "text": [
        "\r",
        "|###-------| 2100/5292  39% [elapsed: 00:34 left: 00:51, 61.71 iters/sec]"
       ]
      },
      {
       "output_type": "stream",
       "stream": "stdout",
       "text": [
        "\r",
        "|###-------| 2115/5292  39% [elapsed: 00:34 left: 00:51, 61.20 iters/sec]"
       ]
      },
      {
       "output_type": "stream",
       "stream": "stdout",
       "text": [
        "\r",
        "|####------| 2171/5292  41% [elapsed: 00:35 left: 00:50, 61.86 iters/sec]"
       ]
      },
      {
       "output_type": "stream",
       "stream": "stdout",
       "text": [
        "\r",
        "|####------| 2186/5292  41% [elapsed: 00:35 left: 00:50, 61.37 iters/sec]"
       ]
      },
      {
       "output_type": "stream",
       "stream": "stdout",
       "text": [
        "\r",
        "|####------| 2242/5292  42% [elapsed: 00:36 left: 00:49, 62.02 iters/sec]"
       ]
      },
      {
       "output_type": "stream",
       "stream": "stdout",
       "text": [
        "\r",
        "|####------| 2257/5292  42% [elapsed: 00:36 left: 00:49, 61.53 iters/sec]"
       ]
      },
      {
       "output_type": "stream",
       "stream": "stdout",
       "text": [
        "\r",
        "|####------| 2284/5292  43% [elapsed: 00:37 left: 00:48, 61.43 iters/sec]"
       ]
      },
      {
       "output_type": "stream",
       "stream": "stdout",
       "text": [
        "\r",
        "|####------| 2326/5292  43% [elapsed: 00:37 left: 00:48, 61.70 iters/sec]"
       ]
      },
      {
       "output_type": "stream",
       "stream": "stdout",
       "text": [
        "\r",
        "|####------| 2340/5292  44% [elapsed: 00:38 left: 00:48, 61.25 iters/sec]"
       ]
      },
      {
       "output_type": "stream",
       "stream": "stdout",
       "text": [
        "\r",
        "|####------| 2395/5292  45% [elapsed: 00:38 left: 00:46, 61.86 iters/sec]"
       ]
      },
      {
       "output_type": "stream",
       "stream": "stdout",
       "text": [
        "\r",
        "|####------| 2409/5292  45% [elapsed: 00:39 left: 00:46, 61.42 iters/sec]"
       ]
      },
      {
       "output_type": "stream",
       "stream": "stdout",
       "text": [
        "\r",
        "|####------| 2442/5292  46% [elapsed: 00:39 left: 00:46, 61.48 iters/sec]"
       ]
      },
      {
       "output_type": "stream",
       "stream": "stdout",
       "text": [
        "\r",
        "|####------| 2477/5292  46% [elapsed: 00:40 left: 00:45, 61.54 iters/sec]"
       ]
      },
      {
       "output_type": "stream",
       "stream": "stdout",
       "text": [
        "\r",
        "|####------| 2491/5292  47% [elapsed: 00:40 left: 00:45, 61.12 iters/sec]"
       ]
      },
      {
       "output_type": "stream",
       "stream": "stdout",
       "text": [
        "\r",
        "|####------| 2546/5292  48% [elapsed: 00:41 left: 00:44, 61.71 iters/sec]"
       ]
      },
      {
       "output_type": "stream",
       "stream": "stdout",
       "text": [
        "\r",
        "|####------| 2560/5292  48% [elapsed: 00:41 left: 00:44, 61.29 iters/sec]"
       ]
      },
      {
       "output_type": "stream",
       "stream": "stdout",
       "text": [
        "\r",
        "|####------| 2589/5292  48% [elapsed: 00:42 left: 00:44, 61.24 iters/sec]"
       ]
      },
      {
       "output_type": "stream",
       "stream": "stdout",
       "text": [
        "\r",
        "|####------| 2628/5292  49% [elapsed: 00:42 left: 00:43, 61.42 iters/sec]"
       ]
      },
      {
       "output_type": "stream",
       "stream": "stdout",
       "text": [
        "\r",
        "|####------| 2642/5292  49% [elapsed: 00:43 left: 00:43, 61.03 iters/sec]"
       ]
      },
      {
       "output_type": "stream",
       "stream": "stdout",
       "text": [
        "\r",
        "|#####-----| 2698/5292  50% [elapsed: 00:43 left: 00:42, 61.57 iters/sec]"
       ]
      },
      {
       "output_type": "stream",
       "stream": "stdout",
       "text": [
        "\r",
        "|#####-----| 2713/5292  51% [elapsed: 00:44 left: 00:42, 61.17 iters/sec]"
       ]
      },
      {
       "output_type": "stream",
       "stream": "stdout",
       "text": [
        "\r",
        "|#####-----| 2758/5292  52% [elapsed: 00:44 left: 00:41, 61.49 iters/sec]"
       ]
      },
      {
       "output_type": "stream",
       "stream": "stdout",
       "text": [
        "\r",
        "|#####-----| 2783/5292  52% [elapsed: 00:45 left: 00:40, 61.33 iters/sec]"
       ]
      },
      {
       "output_type": "stream",
       "stream": "stdout",
       "text": [
        "\r",
        "|#####-----| 2797/5292  52% [elapsed: 00:45 left: 00:40, 60.96 iters/sec]"
       ]
      },
      {
       "output_type": "stream",
       "stream": "stdout",
       "text": [
        "\r",
        "|#####-----| 2853/5292  53% [elapsed: 00:46 left: 00:39, 61.47 iters/sec]"
       ]
      },
      {
       "output_type": "stream",
       "stream": "stdout",
       "text": [
        "\r",
        "|#####-----| 2867/5292  54% [elapsed: 00:46 left: 00:39, 61.11 iters/sec]"
       ]
      },
      {
       "output_type": "stream",
       "stream": "stdout",
       "text": [
        "\r",
        "|#####-----| 2922/5292  55% [elapsed: 00:47 left: 00:38, 61.61 iters/sec]"
       ]
      },
      {
       "output_type": "stream",
       "stream": "stdout",
       "text": [
        "\r",
        "|#####-----| 2937/5292  55% [elapsed: 00:47 left: 00:38, 61.24 iters/sec]"
       ]
      },
      {
       "output_type": "stream",
       "stream": "stdout",
       "text": [
        "\r",
        "|#####-----| 2964/5292  56% [elapsed: 00:48 left: 00:38, 61.16 iters/sec]"
       ]
      },
      {
       "output_type": "stream",
       "stream": "stdout",
       "text": [
        "\r",
        "|#####-----| 3007/5292  56% [elapsed: 00:48 left: 00:37, 61.38 iters/sec]"
       ]
      },
      {
       "output_type": "stream",
       "stream": "stdout",
       "text": [
        "\r",
        "|#####-----| 3022/5292  57% [elapsed: 00:49 left: 00:37, 61.03 iters/sec]"
       ]
      },
      {
       "output_type": "stream",
       "stream": "stdout",
       "text": [
        "\r",
        "|#####-----| 3078/5292  58% [elapsed: 00:50 left: 00:35, 61.50 iters/sec]"
       ]
      },
      {
       "output_type": "stream",
       "stream": "stdout",
       "text": [
        "\r",
        "|#####-----| 3093/5292  58% [elapsed: 00:50 left: 00:35, 61.16 iters/sec]"
       ]
      },
      {
       "output_type": "stream",
       "stream": "stdout",
       "text": [
        "\r",
        "|#####-----| 3148/5292  59% [elapsed: 00:51 left: 00:34, 61.63 iters/sec]"
       ]
      },
      {
       "output_type": "stream",
       "stream": "stdout",
       "text": [
        "\r",
        "|#####-----| 3163/5292  59% [elapsed: 00:51 left: 00:34, 61.29 iters/sec]"
       ]
      },
      {
       "output_type": "stream",
       "stream": "stdout",
       "text": [
        "\r",
        "|######----| 3184/5292  60% [elapsed: 00:52 left: 00:34, 61.11 iters/sec]"
       ]
      },
      {
       "output_type": "stream",
       "stream": "stdout",
       "text": [
        "\r",
        "|######----| 3232/5292  61% [elapsed: 00:52 left: 00:33, 61.42 iters/sec]"
       ]
      },
      {
       "output_type": "stream",
       "stream": "stdout",
       "text": [
        "\r",
        "|######----| 3246/5292  61% [elapsed: 00:53 left: 00:33, 61.10 iters/sec]"
       ]
      },
      {
       "output_type": "stream",
       "stream": "stdout",
       "text": [
        "\r",
        "|######----| 3301/5292  62% [elapsed: 00:53 left: 00:32, 61.55 iters/sec]"
       ]
      },
      {
       "output_type": "stream",
       "stream": "stdout",
       "text": [
        "\r",
        "|######----| 3316/5292  62% [elapsed: 00:54 left: 00:32, 61.23 iters/sec]"
       ]
      },
      {
       "output_type": "stream",
       "stream": "stdout",
       "text": [
        "\r",
        "|######----| 3344/5292  63% [elapsed: 00:54 left: 00:31, 61.18 iters/sec]"
       ]
      },
      {
       "output_type": "stream",
       "stream": "stdout",
       "text": [
        "\r",
        "|######----| 3385/5292  63% [elapsed: 00:55 left: 00:31, 61.35 iters/sec]"
       ]
      },
      {
       "output_type": "stream",
       "stream": "stdout",
       "text": [
        "\r",
        "|######----| 3400/5292  64% [elapsed: 00:55 left: 00:30, 61.03 iters/sec]"
       ]
      },
      {
       "output_type": "stream",
       "stream": "stdout",
       "text": [
        "\r",
        "|######----| 3456/5292  65% [elapsed: 00:56 left: 00:29, 61.45 iters/sec]"
       ]
      },
      {
       "output_type": "stream",
       "stream": "stdout",
       "text": [
        "\r",
        "|######----| 3471/5292  65% [elapsed: 00:56 left: 00:29, 61.14 iters/sec]"
       ]
      },
      {
       "output_type": "stream",
       "stream": "stdout",
       "text": [
        "\r",
        "|######----| 3524/5292  66% [elapsed: 00:57 left: 00:28, 61.53 iters/sec]"
       ]
      },
      {
       "output_type": "stream",
       "stream": "stdout",
       "text": [
        "\r",
        "|######----| 3540/5292  66% [elapsed: 00:57 left: 00:28, 61.26 iters/sec]"
       ]
      },
      {
       "output_type": "stream",
       "stream": "stdout",
       "text": [
        "\r",
        "|######----| 3557/5292  67% [elapsed: 00:58 left: 00:28, 61.02 iters/sec]"
       ]
      },
      {
       "output_type": "stream",
       "stream": "stdout",
       "text": [
        "\r",
        "|######----| 3610/5292  68% [elapsed: 00:58 left: 00:27, 61.39 iters/sec]"
       ]
      },
      {
       "output_type": "stream",
       "stream": "stdout",
       "text": [
        "\r",
        "|######----| 3624/5292  68% [elapsed: 00:59 left: 00:27, 61.11 iters/sec]"
       ]
      },
      {
       "output_type": "stream",
       "stream": "stdout",
       "text": [
        "\r",
        "|######----| 3679/5292  69% [elapsed: 00:59 left: 00:26, 61.52 iters/sec]"
       ]
      },
      {
       "output_type": "stream",
       "stream": "stdout",
       "text": [
        "\r",
        "|######----| 3694/5292  69% [elapsed: 01:00 left: 00:26, 61.22 iters/sec]"
       ]
      },
      {
       "output_type": "stream",
       "stream": "stdout",
       "text": [
        "\r",
        "|#######---| 3727/5292  70% [elapsed: 01:00 left: 00:25, 61.26 iters/sec]"
       ]
      },
      {
       "output_type": "stream",
       "stream": "stdout",
       "text": [
        "\r",
        "|#######---| 3763/5292  71% [elapsed: 01:01 left: 00:24, 61.33 iters/sec]"
       ]
      },
      {
       "output_type": "stream",
       "stream": "stdout",
       "text": [
        "\r",
        "|#######---| 3778/5292  71% [elapsed: 01:01 left: 00:24, 61.05 iters/sec]"
       ]
      },
      {
       "output_type": "stream",
       "stream": "stdout",
       "text": [
        "\r",
        "|#######---| 3834/5292  72% [elapsed: 01:02 left: 00:23, 61.42 iters/sec]"
       ]
      },
      {
       "output_type": "stream",
       "stream": "stdout",
       "text": [
        "\r",
        "|#######---| 3848/5292  72% [elapsed: 01:02 left: 00:23, 61.16 iters/sec]"
       ]
      },
      {
       "output_type": "stream",
       "stream": "stdout",
       "text": [
        "\r",
        "|#######---| 3893/5292  73% [elapsed: 01:03 left: 00:22, 61.38 iters/sec]"
       ]
      },
      {
       "output_type": "stream",
       "stream": "stdout",
       "text": [
        "\r",
        "|#######---| 3916/5292  73% [elapsed: 01:03 left: 00:22, 61.23 iters/sec]"
       ]
      },
      {
       "output_type": "stream",
       "stream": "stdout",
       "text": [
        "\r",
        "|#######---| 3931/5292  74% [elapsed: 01:04 left: 00:22, 60.96 iters/sec]"
       ]
      },
      {
       "output_type": "stream",
       "stream": "stdout",
       "text": [
        "\r",
        "|#######---| 3985/5292  75% [elapsed: 01:05 left: 00:21, 61.30 iters/sec]"
       ]
      },
      {
       "output_type": "stream",
       "stream": "stdout",
       "text": [
        "\r",
        "|#######---| 3997/5292  75% [elapsed: 01:05 left: 00:21, 61.01 iters/sec]"
       ]
      },
      {
       "output_type": "stream",
       "stream": "stdout",
       "text": [
        "\r",
        "|#######---| 4016/5292  75% [elapsed: 01:06 left: 00:20, 60.83 iters/sec]"
       ]
      },
      {
       "output_type": "stream",
       "stream": "stdout",
       "text": [
        "\r",
        "|#######---| 4062/5292  76% [elapsed: 01:06 left: 00:20, 61.07 iters/sec]"
       ]
      },
      {
       "output_type": "stream",
       "stream": "stdout",
       "text": [
        "\r",
        "|#######---| 4075/5292  77% [elapsed: 01:07 left: 00:20, 60.78 iters/sec]"
       ]
      },
      {
       "output_type": "stream",
       "stream": "stdout",
       "text": [
        "\r",
        "|#######---| 4113/5292  77% [elapsed: 01:07 left: 00:19, 60.90 iters/sec]"
       ]
      },
      {
       "output_type": "stream",
       "stream": "stdout",
       "text": [
        "\r",
        "|#######---| 4141/5292  78% [elapsed: 01:08 left: 00:18, 60.85 iters/sec]"
       ]
      },
      {
       "output_type": "stream",
       "stream": "stdout",
       "text": [
        "\r",
        "|#######---| 4155/5292  78% [elapsed: 01:08 left: 00:18, 60.61 iters/sec]"
       ]
      },
      {
       "output_type": "stream",
       "stream": "stdout",
       "text": [
        "\r",
        "|#######---| 4210/5292  79% [elapsed: 01:09 left: 00:17, 60.96 iters/sec]"
       ]
      },
      {
       "output_type": "stream",
       "stream": "stdout",
       "text": [
        "\r",
        "|#######---| 4222/5292  79% [elapsed: 01:09 left: 00:17, 60.70 iters/sec]"
       ]
      },
      {
       "output_type": "stream",
       "stream": "stdout",
       "text": [
        "\r",
        "|########--| 4248/5292  80% [elapsed: 01:10 left: 00:17, 60.63 iters/sec]"
       ]
      },
      {
       "output_type": "stream",
       "stream": "stdout",
       "text": [
        "\r",
        "|########--| 4292/5292  81% [elapsed: 01:10 left: 00:16, 60.80 iters/sec]"
       ]
      },
      {
       "output_type": "stream",
       "stream": "stdout",
       "text": [
        "\r",
        "|########--| 4306/5292  81% [elapsed: 01:11 left: 00:16, 60.56 iters/sec]"
       ]
      },
      {
       "output_type": "stream",
       "stream": "stdout",
       "text": [
        "\r",
        "|########--| 4361/5292  82% [elapsed: 01:11 left: 00:15, 60.90 iters/sec]"
       ]
      },
      {
       "output_type": "stream",
       "stream": "stdout",
       "text": [
        "\r",
        "|########--| 4376/5292  82% [elapsed: 01:12 left: 00:15, 60.67 iters/sec]"
       ]
      },
      {
       "output_type": "stream",
       "stream": "stdout",
       "text": [
        "\r",
        "|########--| 4417/5292  83% [elapsed: 01:12 left: 00:14, 60.81 iters/sec]"
       ]
      },
      {
       "output_type": "stream",
       "stream": "stdout",
       "text": [
        "\r",
        "|########--| 4445/5292  83% [elapsed: 01:13 left: 00:13, 60.77 iters/sec]"
       ]
      },
      {
       "output_type": "stream",
       "stream": "stdout",
       "text": [
        "\r",
        "|########--| 4460/5292  84% [elapsed: 01:13 left: 00:13, 60.53 iters/sec]"
       ]
      },
      {
       "output_type": "stream",
       "stream": "stdout",
       "text": [
        "\r",
        "|########--| 4515/5292  85% [elapsed: 01:14 left: 00:12, 60.86 iters/sec]"
       ]
      },
      {
       "output_type": "stream",
       "stream": "stdout",
       "text": [
        "\r",
        "|########--| 4530/5292  85% [elapsed: 01:14 left: 00:12, 60.63 iters/sec]"
       ]
      },
      {
       "output_type": "stream",
       "stream": "stdout",
       "text": [
        "\r",
        "|########--| 4586/5292  86% [elapsed: 01:15 left: 00:11, 60.95 iters/sec]"
       ]
      },
      {
       "output_type": "stream",
       "stream": "stdout",
       "text": [
        "\r",
        "|########--| 4601/5292  86% [elapsed: 01:15 left: 00:11, 60.72 iters/sec]"
       ]
      },
      {
       "output_type": "stream",
       "stream": "stdout",
       "text": [
        "\r",
        "|########--| 4634/5292  87% [elapsed: 01:16 left: 00:10, 60.75 iters/sec]"
       ]
      },
      {
       "output_type": "stream",
       "stream": "stdout",
       "text": [
        "\r",
        "|########--| 4670/5292  88% [elapsed: 01:16 left: 00:10, 60.82 iters/sec]"
       ]
      },
      {
       "output_type": "stream",
       "stream": "stdout",
       "text": [
        "\r",
        "|########--| 4684/5292  88% [elapsed: 01:17 left: 00:10, 60.58 iters/sec]"
       ]
      },
      {
       "output_type": "stream",
       "stream": "stdout",
       "text": [
        "\r",
        "|########--| 4739/5292  89% [elapsed: 01:17 left: 00:09, 60.89 iters/sec]"
       ]
      },
      {
       "output_type": "stream",
       "stream": "stdout",
       "text": [
        "\r",
        "|########--| 4753/5292  89% [elapsed: 01:18 left: 00:08, 60.68 iters/sec]"
       ]
      },
      {
       "output_type": "stream",
       "stream": "stdout",
       "text": [
        "\r",
        "|#########-| 4792/5292  90% [elapsed: 01:18 left: 00:08, 60.78 iters/sec]"
       ]
      },
      {
       "output_type": "stream",
       "stream": "stdout",
       "text": [
        "\r",
        "|#########-| 4823/5292  91% [elapsed: 01:19 left: 00:07, 60.77 iters/sec]"
       ]
      },
      {
       "output_type": "stream",
       "stream": "stdout",
       "text": [
        "\r",
        "|#########-| 4838/5292  91% [elapsed: 01:19 left: 00:07, 60.56 iters/sec]"
       ]
      },
      {
       "output_type": "stream",
       "stream": "stdout",
       "text": [
        "\r",
        "|#########-| 4893/5292  92% [elapsed: 01:20 left: 00:06, 60.86 iters/sec]"
       ]
      },
      {
       "output_type": "stream",
       "stream": "stdout",
       "text": [
        "\r",
        "|#########-| 4908/5292  92% [elapsed: 01:20 left: 00:06, 60.64 iters/sec]"
       ]
      },
      {
       "output_type": "stream",
       "stream": "stdout",
       "text": [
        "\r",
        "|#########-| 4964/5292  93% [elapsed: 01:21 left: 00:05, 60.94 iters/sec]"
       ]
      },
      {
       "output_type": "stream",
       "stream": "stdout",
       "text": [
        "\r",
        "|#########-| 4979/5292  94% [elapsed: 01:21 left: 00:05, 60.73 iters/sec]"
       ]
      },
      {
       "output_type": "stream",
       "stream": "stdout",
       "text": [
        "\r",
        "|#########-| 5013/5292  94% [elapsed: 01:22 left: 00:04, 60.77 iters/sec]"
       ]
      },
      {
       "output_type": "stream",
       "stream": "stdout",
       "text": [
        "\r",
        "|#########-| 5049/5292  95% [elapsed: 01:23 left: 00:03, 60.82 iters/sec]"
       ]
      },
      {
       "output_type": "stream",
       "stream": "stdout",
       "text": [
        "\r",
        "|#########-| 5063/5292  95% [elapsed: 01:23 left: 00:03, 60.61 iters/sec]"
       ]
      },
      {
       "output_type": "stream",
       "stream": "stdout",
       "text": [
        "\r",
        "|#########-| 5118/5292  96% [elapsed: 01:24 left: 00:02, 60.90 iters/sec]"
       ]
      },
      {
       "output_type": "stream",
       "stream": "stdout",
       "text": [
        "\r",
        "|#########-| 5132/5292  96% [elapsed: 01:24 left: 00:02, 60.70 iters/sec]"
       ]
      },
      {
       "output_type": "stream",
       "stream": "stdout",
       "text": [
        "\r",
        "|#########-| 5172/5292  97% [elapsed: 01:25 left: 00:01, 60.81 iters/sec]"
       ]
      },
      {
       "output_type": "stream",
       "stream": "stdout",
       "text": [
        "\r",
        "|#########-| 5198/5292  98% [elapsed: 01:25 left: 00:01, 60.74 iters/sec]"
       ]
      },
      {
       "output_type": "stream",
       "stream": "stdout",
       "text": [
        "\r",
        "|#########-| 5211/5292  98% [elapsed: 01:26 left: 00:01, 60.52 iters/sec]"
       ]
      },
      {
       "output_type": "stream",
       "stream": "stdout",
       "text": [
        "\r",
        "|#########-| 5257/5292  99% [elapsed: 01:26 left: 00:00, 60.70 iters/sec]"
       ]
      },
      {
       "output_type": "stream",
       "stream": "stdout",
       "text": [
        "\r",
        "|#########-| 5276/5292  99% [elapsed: 01:27 left: 00:00, 60.56 iters/sec]"
       ]
      },
      {
       "output_type": "stream",
       "stream": "stdout",
       "text": [
        "\r",
        "|#########-| 5290/5292  99% [elapsed: 01:27 left: 00:00, 60.37 iters/sec]"
       ]
      },
      {
       "output_type": "stream",
       "stream": "stdout",
       "text": [
        "\r",
        "                                                                         "
       ]
      },
      {
       "output_type": "stream",
       "stream": "stdout",
       "text": [
        "\r",
        "Done writing video in SamsungVariationsPart2TEMP_MPY_to_videofile.avi !"
       ]
      },
      {
       "output_type": "stream",
       "stream": "stdout",
       "text": [
        "\n",
        "\n",
        "Now merging video and audio:\n"
       ]
      },
      {
       "output_type": "stream",
       "stream": "stdout",
       "text": [
        "\n",
        "MoviePy Running:\n",
        ">>> ffmpeg -y -i SamsungVariationsPart2TEMP_MPY_to_videofile_SOUND.ogg -i SamsungVariationsPart2TEMP_MPY_to_videofile.avi -vcodec copy -acodec copy SamsungVariationsPart2.avi"
       ]
      },
      {
       "output_type": "stream",
       "stream": "stdout",
       "text": [
        "\n",
        "... command successful.\n"
       ]
      },
      {
       "output_type": "stream",
       "stream": "stdout",
       "text": [
        "\n",
        "Your video is ready ! Fingers crossed for the Oscars !\n"
       ]
      },
      {
       "output_type": "stream",
       "stream": "stdout",
       "text": [
        "\n"
       ]
      }
     ],
     "prompt_number": 10
    },
    {
     "cell_type": "markdown",
     "metadata": {},
     "source": [
      "We can now join the two parts together."
     ]
    },
    {
     "cell_type": "code",
     "collapsed": false,
     "input": [
      "part1 = VideoFileClip(\"SamsungVariationsPart1.avi\")\n",
      "part2 = VideoFileClip(\"SamsungVariationsPart2.avi\")\n",
      "final_clip = concat_clips([part1, part2])"
     ],
     "language": "python",
     "metadata": {},
     "outputs": [],
     "prompt_number": 12
    },
    {
     "cell_type": "code",
     "collapsed": false,
     "input": [
      "final_clip.to_videofile(\"SamsungVariations.avi\")"
     ],
     "language": "python",
     "metadata": {},
     "outputs": [
      {
       "output_type": "stream",
       "stream": "stdout",
       "text": [
        "\n",
        "MoviePy: building video file SamsungVariations.avi\n",
        "----------------------------------------\n"
       ]
      },
      {
       "output_type": "stream",
       "stream": "stdout",
       "text": [
        "Writing audio in SamsungVariationsTEMP_MPY_to_videofile_SOUND.ogg\n"
       ]
      },
      {
       "output_type": "stream",
       "stream": "stdout",
       "text": [
        "\r",
        "|----------| 0/8446   0% [elapsed: 00:00 left: ?, ? iters/sec]"
       ]
      },
      {
       "output_type": "stream",
       "stream": "stdout",
       "text": [
        "\r",
        "|----------| 346/8446   4% [elapsed: 00:00 left: 00:11, 692.00 iters/sec]"
       ]
      },
      {
       "output_type": "stream",
       "stream": "stdout",
       "text": [
        "\r",
        "|----------| 751/8446   8% [elapsed: 00:01 left: 00:10, 751.00 iters/sec]"
       ]
      },
      {
       "output_type": "stream",
       "stream": "stdout",
       "text": [
        "\r",
        "|#---------| 1105/8446  13% [elapsed: 00:01 left: 00:09, 736.67 iters/sec]"
       ]
      },
      {
       "output_type": "stream",
       "stream": "stdout",
       "text": [
        "\r",
        "|#---------| 1518/8446  17% [elapsed: 00:02 left: 00:09, 758.62 iters/sec]"
       ]
      },
      {
       "output_type": "stream",
       "stream": "stdout",
       "text": [
        "\r",
        "|##--------| 1923/8446  22% [elapsed: 00:02 left: 00:08, 768.89 iters/sec]"
       ]
      },
      {
       "output_type": "stream",
       "stream": "stdout",
       "text": [
        "\r",
        "|##--------| 2326/8446  27% [elapsed: 00:03 left: 00:07, 775.07 iters/sec]"
       ]
      },
      {
       "output_type": "stream",
       "stream": "stdout",
       "text": [
        "\r",
        "|###-------| 2741/8446  32% [elapsed: 00:03 left: 00:07, 782.70 iters/sec]"
       ]
      },
      {
       "output_type": "stream",
       "stream": "stdout",
       "text": [
        "\r",
        "|###-------| 3151/8446  37% [elapsed: 00:04 left: 00:06, 786.57 iters/sec]"
       ]
      },
      {
       "output_type": "stream",
       "stream": "stdout",
       "text": [
        "\r",
        "|####------| 3553/8446  42% [elapsed: 00:04 left: 00:06, 788.50 iters/sec]"
       ]
      },
      {
       "output_type": "stream",
       "stream": "stdout",
       "text": [
        "\r",
        "|####------| 3976/8446  47% [elapsed: 00:05 left: 00:05, 794.25 iters/sec]"
       ]
      },
      {
       "output_type": "stream",
       "stream": "stdout",
       "text": [
        "\r",
        "|#####-----| 4384/8446  51% [elapsed: 00:05 left: 00:05, 795.64 iters/sec]"
       ]
      },
      {
       "output_type": "stream",
       "stream": "stdout",
       "text": [
        "\r",
        "|#####-----| 4797/8446  56% [elapsed: 00:06 left: 00:04, 798.04 iters/sec]"
       ]
      },
      {
       "output_type": "stream",
       "stream": "stdout",
       "text": [
        "\r",
        "|######----| 5211/8446  61% [elapsed: 00:06 left: 00:04, 800.34 iters/sec]"
       ]
      },
      {
       "output_type": "stream",
       "stream": "stdout",
       "text": [
        "\r",
        "|######----| 5626/8446  66% [elapsed: 00:07 left: 00:03, 802.45 iters/sec]"
       ]
      },
      {
       "output_type": "stream",
       "stream": "stdout",
       "text": [
        "\r",
        "|#######---| 6034/8446  71% [elapsed: 00:07 left: 00:03, 803.36 iters/sec]"
       ]
      },
      {
       "output_type": "stream",
       "stream": "stdout",
       "text": [
        "\r",
        "|#######---| 6449/8446  76% [elapsed: 00:08 left: 00:02, 805.02 iters/sec]"
       ]
      },
      {
       "output_type": "stream",
       "stream": "stdout",
       "text": [
        "\r",
        "|########--| 6861/8446  81% [elapsed: 00:08 left: 00:01, 806.13 iters/sec]"
       ]
      },
      {
       "output_type": "stream",
       "stream": "stdout",
       "text": [
        "\r",
        "|########--| 7272/8446  86% [elapsed: 00:09 left: 00:01, 807.01 iters/sec]"
       ]
      },
      {
       "output_type": "stream",
       "stream": "stdout",
       "text": [
        "\r",
        "|#########-| 7684/8446  90% [elapsed: 00:09 left: 00:00, 807.65 iters/sec]"
       ]
      },
      {
       "output_type": "stream",
       "stream": "stdout",
       "text": [
        "\r",
        "|#########-| 8108/8446  95% [elapsed: 00:10 left: 00:00, 809.67 iters/sec]"
       ]
      },
      {
       "output_type": "stream",
       "stream": "stdout",
       "text": [
        "\r",
        "                                                                          "
       ]
      },
      {
       "output_type": "stream",
       "stream": "stdout",
       "text": [
        "\r",
        "Done writing Audio in SamsungVariationsTEMP_MPY_to_videofile_SOUND.ogg !\n"
       ]
      },
      {
       "output_type": "stream",
       "stream": "stdout",
       "text": [
        "\n",
        "Writing video into SamsungVariationsTEMP_MPY_to_videofile.avi\n"
       ]
      },
      {
       "output_type": "stream",
       "stream": "stdout",
       "text": [
        "\r",
        "|----------| 0/9192   0% [elapsed: 00:00 left: ?, ? iters/sec]"
       ]
      },
      {
       "output_type": "stream",
       "stream": "stdout",
       "text": [
        "\r",
        "|----------| 98/9192   1% [elapsed: 00:00 left: 00:46, 196.00 iters/sec]"
       ]
      },
      {
       "output_type": "stream",
       "stream": "stdout",
       "text": [
        "\r",
        "|----------| 201/9192   2% [elapsed: 00:01 left: 00:44, 200.40 iters/sec]"
       ]
      },
      {
       "output_type": "stream",
       "stream": "stdout",
       "text": [
        "\r",
        "|----------| 281/9192   3% [elapsed: 00:01 left: 00:47, 186.59 iters/sec]"
       ]
      },
      {
       "output_type": "stream",
       "stream": "stdout",
       "text": [
        "\r",
        "|----------| 372/9192   4% [elapsed: 00:02 left: 00:47, 184.98 iters/sec]"
       ]
      },
      {
       "output_type": "stream",
       "stream": "stdout",
       "text": [
        "\r",
        "|----------| 461/9192   5% [elapsed: 00:02 left: 00:47, 183.52 iters/sec]"
       ]
      },
      {
       "output_type": "stream",
       "stream": "stdout",
       "text": [
        "\r",
        "|----------| 547/9192   5% [elapsed: 00:03 left: 00:47, 181.43 iters/sec]"
       ]
      },
      {
       "output_type": "stream",
       "stream": "stdout",
       "text": [
        "\r",
        "|----------| 622/9192   6% [elapsed: 00:03 left: 00:48, 176.96 iters/sec]"
       ]
      },
      {
       "output_type": "stream",
       "stream": "stdout",
       "text": [
        "\r",
        "|----------| 714/9192   7% [elapsed: 00:04 left: 00:47, 177.83 iters/sec]"
       ]
      },
      {
       "output_type": "stream",
       "stream": "stdout",
       "text": [
        "\r",
        "|----------| 776/9192   8% [elapsed: 00:04 left: 00:49, 171.68 iters/sec]"
       ]
      },
      {
       "output_type": "stream",
       "stream": "stdout",
       "text": [
        "\r",
        "|----------| 845/9192   9% [elapsed: 00:05 left: 00:49, 167.69 iters/sec]"
       ]
      },
      {
       "output_type": "stream",
       "stream": "stdout",
       "text": [
        "\r",
        "|----------| 917/9192   9% [elapsed: 00:05 left: 00:50, 165.40 iters/sec]"
       ]
      },
      {
       "output_type": "stream",
       "stream": "stdout",
       "text": [
        "\r",
        "|#---------| 962/9192  10% [elapsed: 00:06 left: 00:51, 159.17 iters/sec]"
       ]
      },
      {
       "output_type": "stream",
       "stream": "stdout",
       "text": [
        "\r",
        "|#---------| 1016/9192  11% [elapsed: 00:06 left: 00:52, 155.04 iters/sec]"
       ]
      },
      {
       "output_type": "stream",
       "stream": "stdout",
       "text": [
        "\r",
        "|#---------| 1074/9192  11% [elapsed: 00:07 left: 00:53, 152.17 iters/sec]"
       ]
      },
      {
       "output_type": "stream",
       "stream": "stdout",
       "text": [
        "\r",
        "|#---------| 1146/9192  12% [elapsed: 00:07 left: 00:53, 151.55 iters/sec]"
       ]
      },
      {
       "output_type": "stream",
       "stream": "stdout",
       "text": [
        "\r",
        "|#---------| 1223/9192  13% [elapsed: 00:08 left: 00:52, 151.62 iters/sec]"
       ]
      },
      {
       "output_type": "stream",
       "stream": "stdout",
       "text": [
        "\r",
        "|#---------| 1302/9192  14% [elapsed: 00:08 left: 00:51, 151.93 iters/sec]"
       ]
      },
      {
       "output_type": "stream",
       "stream": "stdout",
       "text": [
        "\r",
        "|#---------| 1379/9192  15% [elapsed: 00:09 left: 00:51, 151.99 iters/sec]"
       ]
      },
      {
       "output_type": "stream",
       "stream": "stdout",
       "text": [
        "\r",
        "|#---------| 1452/9192  15% [elapsed: 00:09 left: 00:51, 151.60 iters/sec]"
       ]
      },
      {
       "output_type": "stream",
       "stream": "stdout",
       "text": [
        "\r",
        "|#---------| 1528/9192  16% [elapsed: 00:10 left: 00:50, 151.59 iters/sec]"
       ]
      },
      {
       "output_type": "stream",
       "stream": "stdout",
       "text": [
        "\r",
        "|#---------| 1603/9192  17% [elapsed: 00:10 left: 00:50, 151.47 iters/sec]"
       ]
      },
      {
       "output_type": "stream",
       "stream": "stdout",
       "text": [
        "\r",
        "|#---------| 1680/9192  18% [elapsed: 00:11 left: 00:49, 151.53 iters/sec]"
       ]
      },
      {
       "output_type": "stream",
       "stream": "stdout",
       "text": [
        "\r",
        "|#---------| 1745/9192  18% [elapsed: 00:11 left: 00:49, 150.37 iters/sec]"
       ]
      },
      {
       "output_type": "stream",
       "stream": "stdout",
       "text": [
        "\r",
        "|#---------| 1821/9192  19% [elapsed: 00:12 left: 00:49, 150.38 iters/sec]"
       ]
      },
      {
       "output_type": "stream",
       "stream": "stdout",
       "text": [
        "\r",
        "|##--------| 1896/9192  20% [elapsed: 00:12 left: 00:48, 150.32 iters/sec]"
       ]
      },
      {
       "output_type": "stream",
       "stream": "stdout",
       "text": [
        "\r",
        "|##--------| 1975/9192  21% [elapsed: 00:13 left: 00:47, 150.58 iters/sec]"
       ]
      },
      {
       "output_type": "stream",
       "stream": "stdout",
       "text": [
        "\r",
        "|##--------| 2062/9192  22% [elapsed: 00:13 left: 00:47, 151.40 iters/sec]"
       ]
      },
      {
       "output_type": "stream",
       "stream": "stdout",
       "text": [
        "\r",
        "|##--------| 2137/9192  23% [elapsed: 00:14 left: 00:46, 151.30 iters/sec]"
       ]
      },
      {
       "output_type": "stream",
       "stream": "stdout",
       "text": [
        "\r",
        "|##--------| 2216/9192  24% [elapsed: 00:14 left: 00:46, 151.53 iters/sec]"
       ]
      },
      {
       "output_type": "stream",
       "stream": "stdout",
       "text": [
        "\r",
        "|##--------| 2291/9192  24% [elapsed: 00:15 left: 00:45, 151.47 iters/sec]"
       ]
      },
      {
       "output_type": "stream",
       "stream": "stdout",
       "text": [
        "\r",
        "|##--------| 2365/9192  25% [elapsed: 00:15 left: 00:45, 151.28 iters/sec]"
       ]
      },
      {
       "output_type": "stream",
       "stream": "stdout",
       "text": [
        "\r",
        "|##--------| 2440/9192  26% [elapsed: 00:16 left: 00:44, 151.21 iters/sec]"
       ]
      },
      {
       "output_type": "stream",
       "stream": "stdout",
       "text": [
        "\r",
        "|##--------| 2520/9192  27% [elapsed: 00:16 left: 00:44, 151.40 iters/sec]"
       ]
      },
      {
       "output_type": "stream",
       "stream": "stdout",
       "text": [
        "\r",
        "|##--------| 2595/9192  28% [elapsed: 00:17 left: 00:43, 151.35 iters/sec]"
       ]
      },
      {
       "output_type": "stream",
       "stream": "stdout",
       "text": [
        "\r",
        "|##--------| 2671/9192  29% [elapsed: 00:17 left: 00:43, 151.36 iters/sec]"
       ]
      },
      {
       "output_type": "stream",
       "stream": "stdout",
       "text": [
        "\r",
        "|##--------| 2744/9192  29% [elapsed: 00:18 left: 00:42, 151.21 iters/sec]"
       ]
      },
      {
       "output_type": "stream",
       "stream": "stdout",
       "text": [
        "\r",
        "|###-------| 2819/9192  30% [elapsed: 00:18 left: 00:42, 151.15 iters/sec]"
       ]
      },
      {
       "output_type": "stream",
       "stream": "stdout",
       "text": [
        "\r",
        "|###-------| 2892/9192  31% [elapsed: 00:19 left: 00:41, 151.01 iters/sec]"
       ]
      },
      {
       "output_type": "stream",
       "stream": "stdout",
       "text": [
        "\r",
        "|###-------| 2966/9192  32% [elapsed: 00:19 left: 00:41, 150.91 iters/sec]"
       ]
      },
      {
       "output_type": "stream",
       "stream": "stdout",
       "text": [
        "\r",
        "|###-------| 3055/9192  33% [elapsed: 00:20 left: 00:40, 151.58 iters/sec]"
       ]
      },
      {
       "output_type": "stream",
       "stream": "stdout",
       "text": [
        "\r",
        "|###-------| 3150/9192  34% [elapsed: 00:20 left: 00:39, 152.48 iters/sec]"
       ]
      },
      {
       "output_type": "stream",
       "stream": "stdout",
       "text": [
        "\r",
        "|###-------| 3244/9192  35% [elapsed: 00:21 left: 00:38, 153.29 iters/sec]"
       ]
      },
      {
       "output_type": "stream",
       "stream": "stdout",
       "text": [
        "\r",
        "|###-------| 3318/9192  36% [elapsed: 00:21 left: 00:38, 153.15 iters/sec]"
       ]
      },
      {
       "output_type": "stream",
       "stream": "stdout",
       "text": [
        "\r",
        "|###-------| 3389/9192  36% [elapsed: 00:22 left: 00:37, 152.87 iters/sec]"
       ]
      },
      {
       "output_type": "stream",
       "stream": "stdout",
       "text": [
        "\r",
        "|###-------| 3468/9192  37% [elapsed: 00:22 left: 00:37, 152.96 iters/sec]"
       ]
      },
      {
       "output_type": "stream",
       "stream": "stdout",
       "text": [
        "\r",
        "|###-------| 3543/9192  38% [elapsed: 00:23 left: 00:36, 152.89 iters/sec]"
       ]
      },
      {
       "output_type": "stream",
       "stream": "stdout",
       "text": [
        "\r",
        "|###-------| 3623/9192  39% [elapsed: 00:23 left: 00:36, 153.00 iters/sec]"
       ]
      },
      {
       "output_type": "stream",
       "stream": "stdout",
       "text": [
        "\r",
        "|####------| 3715/9192  40% [elapsed: 00:24 left: 00:35, 153.63 iters/sec]"
       ]
      },
      {
       "output_type": "stream",
       "stream": "stdout",
       "text": [
        "\r",
        "|####------| 3803/9192  41% [elapsed: 00:24 left: 00:34, 154.09 iters/sec]"
       ]
      },
      {
       "output_type": "stream",
       "stream": "stdout",
       "text": [
        "\r",
        "|####------| 3888/9192  42% [elapsed: 00:25 left: 00:34, 154.40 iters/sec]"
       ]
      },
      {
       "output_type": "stream",
       "stream": "stdout",
       "text": [
        "\r",
        "|####------| 3982/9192  43% [elapsed: 00:25 left: 00:33, 155.03 iters/sec]"
       ]
      },
      {
       "output_type": "stream",
       "stream": "stdout",
       "text": [
        "\r",
        "|####------| 4072/9192  44% [elapsed: 00:26 left: 00:32, 155.50 iters/sec]"
       ]
      },
      {
       "output_type": "stream",
       "stream": "stdout",
       "text": [
        "\r",
        "|####------| 4144/9192  45% [elapsed: 00:26 left: 00:32, 155.28 iters/sec]"
       ]
      },
      {
       "output_type": "stream",
       "stream": "stdout",
       "text": [
        "\r",
        "|####------| 4227/9192  45% [elapsed: 00:27 left: 00:31, 155.45 iters/sec]"
       ]
      },
      {
       "output_type": "stream",
       "stream": "stdout",
       "text": [
        "\r",
        "|####------| 4313/9192  46% [elapsed: 00:27 left: 00:31, 155.73 iters/sec]"
       ]
      },
      {
       "output_type": "stream",
       "stream": "stdout",
       "text": [
        "\r",
        "|####------| 4399/9192  47% [elapsed: 00:28 left: 00:30, 156.02 iters/sec]"
       ]
      },
      {
       "output_type": "stream",
       "stream": "stdout",
       "text": [
        "\r",
        "|####------| 4490/9192  48% [elapsed: 00:28 left: 00:30, 156.47 iters/sec]"
       ]
      },
      {
       "output_type": "stream",
       "stream": "stdout",
       "text": [
        "\r",
        "|####------| 4579/9192  49% [elapsed: 00:29 left: 00:29, 156.84 iters/sec]"
       ]
      },
      {
       "output_type": "stream",
       "stream": "stdout",
       "text": [
        "\r",
        "|#####-----| 4665/9192  50% [elapsed: 00:29 left: 00:28, 157.07 iters/sec]"
       ]
      },
      {
       "output_type": "stream",
       "stream": "stdout",
       "text": [
        "\r",
        "|#####-----| 4753/9192  51% [elapsed: 00:30 left: 00:28, 157.38 iters/sec]"
       ]
      },
      {
       "output_type": "stream",
       "stream": "stdout",
       "text": [
        "\r",
        "|#####-----| 4839/9192  52% [elapsed: 00:30 left: 00:27, 157.62 iters/sec]"
       ]
      },
      {
       "output_type": "stream",
       "stream": "stdout",
       "text": [
        "\r",
        "|#####-----| 4928/9192  53% [elapsed: 00:31 left: 00:26, 157.94 iters/sec]"
       ]
      },
      {
       "output_type": "stream",
       "stream": "stdout",
       "text": [
        "\r",
        "|#####-----| 5013/9192  54% [elapsed: 00:31 left: 00:26, 158.11 iters/sec]"
       ]
      },
      {
       "output_type": "stream",
       "stream": "stdout",
       "text": [
        "\r",
        "|#####-----| 5104/9192  55% [elapsed: 00:32 left: 00:25, 158.47 iters/sec]"
       ]
      },
      {
       "output_type": "stream",
       "stream": "stdout",
       "text": [
        "\r",
        "|#####-----| 5190/9192  56% [elapsed: 00:32 left: 00:25, 158.67 iters/sec]"
       ]
      },
      {
       "output_type": "stream",
       "stream": "stdout",
       "text": [
        "\r",
        "|#####-----| 5276/9192  57% [elapsed: 00:33 left: 00:24, 158.86 iters/sec]"
       ]
      },
      {
       "output_type": "stream",
       "stream": "stdout",
       "text": [
        "\r",
        "|#####-----| 5355/9192  58% [elapsed: 00:33 left: 00:24, 158.83 iters/sec]"
       ]
      },
      {
       "output_type": "stream",
       "stream": "stdout",
       "text": [
        "\r",
        "|#####-----| 5439/9192  59% [elapsed: 00:34 left: 00:23, 158.95 iters/sec]"
       ]
      },
      {
       "output_type": "stream",
       "stream": "stdout",
       "text": [
        "\r",
        "|######----| 5526/9192  60% [elapsed: 00:34 left: 00:23, 159.16 iters/sec]"
       ]
      },
      {
       "output_type": "stream",
       "stream": "stdout",
       "text": [
        "\r",
        "|######----| 5612/9192  61% [elapsed: 00:35 left: 00:22, 159.32 iters/sec]"
       ]
      },
      {
       "output_type": "stream",
       "stream": "stdout",
       "text": [
        "\r",
        "|######----| 5701/9192  62% [elapsed: 00:35 left: 00:21, 159.58 iters/sec]"
       ]
      },
      {
       "output_type": "stream",
       "stream": "stdout",
       "text": [
        "\r",
        "|######----| 5790/9192  62% [elapsed: 00:36 left: 00:21, 159.83 iters/sec]"
       ]
      },
      {
       "output_type": "stream",
       "stream": "stdout",
       "text": [
        "\r",
        "|######----| 5882/9192  63% [elapsed: 00:36 left: 00:20, 160.10 iters/sec]"
       ]
      },
      {
       "output_type": "stream",
       "stream": "stdout",
       "text": [
        "\r",
        "|######----| 5971/9192  64% [elapsed: 00:37 left: 00:20, 160.33 iters/sec]"
       ]
      },
      {
       "output_type": "stream",
       "stream": "stdout",
       "text": [
        "\r",
        "|######----| 6061/9192  65% [elapsed: 00:37 left: 00:19, 160.52 iters/sec]"
       ]
      },
      {
       "output_type": "stream",
       "stream": "stdout",
       "text": [
        "\r",
        "|######----| 6157/9192  66% [elapsed: 00:38 left: 00:18, 160.92 iters/sec]"
       ]
      },
      {
       "output_type": "stream",
       "stream": "stdout",
       "text": [
        "\r",
        "|######----| 6251/9192  68% [elapsed: 00:38 left: 00:18, 161.26 iters/sec]"
       ]
      },
      {
       "output_type": "stream",
       "stream": "stdout",
       "text": [
        "\r",
        "|######----| 6340/9192  68% [elapsed: 00:39 left: 00:17, 161.48 iters/sec]"
       ]
      },
      {
       "output_type": "stream",
       "stream": "stdout",
       "text": [
        "\r",
        "|######----| 6421/9192  69% [elapsed: 00:39 left: 00:17, 161.45 iters/sec]"
       ]
      },
      {
       "output_type": "stream",
       "stream": "stdout",
       "text": [
        "\r",
        "|#######---| 6513/9192  70% [elapsed: 00:40 left: 00:16, 161.71 iters/sec]"
       ]
      },
      {
       "output_type": "stream",
       "stream": "stdout",
       "text": [
        "\r",
        "|#######---| 6595/9192  71% [elapsed: 00:40 left: 00:16, 161.71 iters/sec]"
       ]
      },
      {
       "output_type": "stream",
       "stream": "stdout",
       "text": [
        "\r",
        "|#######---| 6682/9192  72% [elapsed: 00:41 left: 00:15, 161.84 iters/sec]"
       ]
      },
      {
       "output_type": "stream",
       "stream": "stdout",
       "text": [
        "\r",
        "|#######---| 6767/9192  73% [elapsed: 00:41 left: 00:14, 161.93 iters/sec]"
       ]
      },
      {
       "output_type": "stream",
       "stream": "stdout",
       "text": [
        "\r",
        "|#######---| 6862/9192  74% [elapsed: 00:42 left: 00:14, 162.25 iters/sec]"
       ]
      },
      {
       "output_type": "stream",
       "stream": "stdout",
       "text": [
        "\r",
        "|#######---| 6949/9192  75% [elapsed: 00:42 left: 00:13, 162.36 iters/sec]"
       ]
      },
      {
       "output_type": "stream",
       "stream": "stdout",
       "text": [
        "\r",
        "|#######---| 7034/9192  76% [elapsed: 00:43 left: 00:13, 162.40 iters/sec]"
       ]
      },
      {
       "output_type": "stream",
       "stream": "stdout",
       "text": [
        "\r",
        "|#######---| 7117/9192  77% [elapsed: 00:43 left: 00:12, 162.42 iters/sec]"
       ]
      },
      {
       "output_type": "stream",
       "stream": "stdout",
       "text": [
        "\r",
        "|#######---| 7204/9192  78% [elapsed: 00:44 left: 00:12, 162.53 iters/sec]"
       ]
      },
      {
       "output_type": "stream",
       "stream": "stdout",
       "text": [
        "\r",
        "|#######---| 7297/9192  79% [elapsed: 00:44 left: 00:11, 162.80 iters/sec]"
       ]
      },
      {
       "output_type": "stream",
       "stream": "stdout",
       "text": [
        "\r",
        "|########--| 7384/9192  80% [elapsed: 00:45 left: 00:11, 162.92 iters/sec]"
       ]
      },
      {
       "output_type": "stream",
       "stream": "stdout",
       "text": [
        "\r",
        "|########--| 7462/9192  81% [elapsed: 00:45 left: 00:10, 162.83 iters/sec]"
       ]
      },
      {
       "output_type": "stream",
       "stream": "stdout",
       "text": [
        "\r",
        "|########--| 7534/9192  81% [elapsed: 00:46 left: 00:10, 162.62 iters/sec]"
       ]
      },
      {
       "output_type": "stream",
       "stream": "stdout",
       "text": [
        "\r",
        "|########--| 7613/9192  82% [elapsed: 00:46 left: 00:09, 162.57 iters/sec]"
       ]
      },
      {
       "output_type": "stream",
       "stream": "stdout",
       "text": [
        "\r",
        "|########--| 7705/9192  83% [elapsed: 00:47 left: 00:09, 162.77 iters/sec]"
       ]
      },
      {
       "output_type": "stream",
       "stream": "stdout",
       "text": [
        "\r",
        "|########--| 7787/9192  84% [elapsed: 00:47 left: 00:08, 162.78 iters/sec]"
       ]
      },
      {
       "output_type": "stream",
       "stream": "stdout",
       "text": [
        "\r",
        "|########--| 7860/9192  85% [elapsed: 00:48 left: 00:08, 162.60 iters/sec]"
       ]
      },
      {
       "output_type": "stream",
       "stream": "stdout",
       "text": [
        "\r",
        "|########--| 7928/9192  86% [elapsed: 00:48 left: 00:07, 162.33 iters/sec]"
       ]
      },
      {
       "output_type": "stream",
       "stream": "stdout",
       "text": [
        "\r",
        "|########--| 8010/9192  87% [elapsed: 00:49 left: 00:07, 162.33 iters/sec]"
       ]
      },
      {
       "output_type": "stream",
       "stream": "stdout",
       "text": [
        "\r",
        "|########--| 8096/9192  88% [elapsed: 00:49 left: 00:06, 162.36 iters/sec]"
       ]
      },
      {
       "output_type": "stream",
       "stream": "stdout",
       "text": [
        "\r",
        "|########--| 8186/9192  89% [elapsed: 00:50 left: 00:06, 162.53 iters/sec]"
       ]
      },
      {
       "output_type": "stream",
       "stream": "stdout",
       "text": [
        "\r",
        "|#########-| 8279/9192  90% [elapsed: 00:50 left: 00:05, 162.75 iters/sec]"
       ]
      },
      {
       "output_type": "stream",
       "stream": "stdout",
       "text": [
        "\r",
        "|#########-| 8374/9192  91% [elapsed: 00:51 left: 00:05, 163.02 iters/sec]"
       ]
      },
      {
       "output_type": "stream",
       "stream": "stdout",
       "text": [
        "\r",
        "|#########-| 8461/9192  92% [elapsed: 00:51 left: 00:04, 163.11 iters/sec]"
       ]
      },
      {
       "output_type": "stream",
       "stream": "stdout",
       "text": [
        "\r",
        "|#########-| 8552/9192  93% [elapsed: 00:52 left: 00:03, 163.28 iters/sec]"
       ]
      },
      {
       "output_type": "stream",
       "stream": "stdout",
       "text": [
        "\r",
        "|#########-| 8645/9192  94% [elapsed: 00:52 left: 00:03, 163.49 iters/sec]"
       ]
      },
      {
       "output_type": "stream",
       "stream": "stdout",
       "text": [
        "\r",
        "|#########-| 8745/9192  95% [elapsed: 00:53 left: 00:02, 163.83 iters/sec]"
       ]
      },
      {
       "output_type": "stream",
       "stream": "stdout",
       "text": [
        "\r",
        "|#########-| 8839/9192  96% [elapsed: 00:53 left: 00:02, 163.99 iters/sec]"
       ]
      },
      {
       "output_type": "stream",
       "stream": "stdout",
       "text": [
        "\r",
        "|#########-| 8929/9192  97% [elapsed: 00:54 left: 00:01, 164.13 iters/sec]"
       ]
      },
      {
       "output_type": "stream",
       "stream": "stdout",
       "text": [
        "\r",
        "|#########-| 9021/9192  98% [elapsed: 00:54 left: 00:01, 164.30 iters/sec]"
       ]
      },
      {
       "output_type": "stream",
       "stream": "stdout",
       "text": [
        "\r",
        "|#########-| 9117/9192  99% [elapsed: 00:55 left: 00:00, 164.55 iters/sec]"
       ]
      },
      {
       "output_type": "stream",
       "stream": "stdout",
       "text": [
        "\r",
        "                                                                          "
       ]
      },
      {
       "output_type": "stream",
       "stream": "stdout",
       "text": [
        "\r",
        "Done writing video in SamsungVariationsTEMP_MPY_to_videofile.avi !"
       ]
      },
      {
       "output_type": "stream",
       "stream": "stdout",
       "text": [
        "\n",
        "\n",
        "Now merging video and audio:\n"
       ]
      },
      {
       "output_type": "stream",
       "stream": "stdout",
       "text": [
        "\n",
        "MoviePy Running:\n",
        ">>> ffmpeg -y -i SamsungVariationsTEMP_MPY_to_videofile_SOUND.ogg -i SamsungVariationsTEMP_MPY_to_videofile.avi -vcodec copy -acodec copy SamsungVariations.avi"
       ]
      },
      {
       "output_type": "stream",
       "stream": "stdout",
       "text": [
        "\n",
        "... command successful.\n"
       ]
      },
      {
       "output_type": "stream",
       "stream": "stdout",
       "text": [
        "\n",
        "Your video is ready ! Fingers crossed for the Oscars !\n"
       ]
      }
     ],
     "prompt_number": 13
    }
   ],
   "metadata": {}
  }
 ]
}